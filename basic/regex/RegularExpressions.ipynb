{
 "cells": [
  {
   "cell_type": "markdown",
   "metadata": {},
   "source": [
    "# Regular Expression in Python"
   ]
  },
  {
   "cell_type": "markdown",
   "metadata": {},
   "source": [
    "## import Library"
   ]
  },
  {
   "cell_type": "code",
   "execution_count": 32,
   "metadata": {},
   "outputs": [],
   "source": [
    "import re"
   ]
  },
  {
   "cell_type": "markdown",
   "metadata": {},
   "source": [
    "The followinga are valid written phone numbers formats:\n",
    "- +1-555-555-31221\n",
    "- 1-555-555-3121\n",
    "- 555-555-3121\n",
    "- +1(555)-555-3121\n",
    "- +15555553121 "
   ]
  },
  {
   "cell_type": "code",
   "execution_count": 33,
   "metadata": {},
   "outputs": [],
   "source": [
    "my_phone_no = \"555-555-3121\""
   ]
  },
  {
   "cell_type": "code",
   "execution_count": 34,
   "metadata": {},
   "outputs": [],
   "source": [
    "pattern = r\"\\d\""
   ]
  },
  {
   "cell_type": "code",
   "execution_count": 35,
   "metadata": {},
   "outputs": [
    {
     "data": {
      "text/plain": [
       "['5', '5', '5', '5', '5', '5', '3', '1', '2', '1']"
      ]
     },
     "execution_count": 35,
     "metadata": {},
     "output_type": "execute_result"
    }
   ],
   "source": [
    "re.findall(pattern, my_phone_no)\n",
    "# list of digits"
   ]
  },
  {
   "cell_type": "code",
   "execution_count": 36,
   "metadata": {},
   "outputs": [
    {
     "data": {
      "text/plain": [
       "['555', '555', '3121']"
      ]
     },
     "execution_count": 36,
     "metadata": {},
     "output_type": "execute_result"
    }
   ],
   "source": [
    "pattern = r\"\\d+\"\n",
    "re.findall(pattern, my_phone_no)\n",
    "# same digits together"
   ]
  },
  {
   "cell_type": "code",
   "execution_count": 37,
   "metadata": {},
   "outputs": [
    {
     "data": {
      "text/plain": [
       "['555', '567', '5309', '1', '555', '555', '0007']"
      ]
     },
     "execution_count": 37,
     "metadata": {},
     "output_type": "execute_result"
    }
   ],
   "source": [
    "my_other_phone_no = \"Hi there, my home number is 555-567-5309 and my cell number is +1-555-555-0007.\"\n",
    "pattern = r\"\\d+\"\n",
    "re.findall(pattern, my_other_phone_no)"
   ]
  },
  {
   "cell_type": "code",
   "execution_count": 38,
   "metadata": {},
   "outputs": [
    {
     "data": {
      "text/plain": [
       "['8', '30', '1', '555', '555', '0007']"
      ]
     },
     "execution_count": 38,
     "metadata": {},
     "output_type": "execute_result"
    }
   ],
   "source": [
    "meeting_str = \"Hey, give me a call at 8:30 on my cell +1-555-555-0007.\"\n",
    "re.findall(pattern, meeting_str)"
   ]
  },
  {
   "cell_type": "code",
   "execution_count": 39,
   "metadata": {},
   "outputs": [
    {
     "data": {
      "text/plain": [
       "['+1-555-555-0007']"
      ]
     },
     "execution_count": 39,
     "metadata": {},
     "output_type": "execute_result"
    }
   ],
   "source": [
    "meeting_str = \"Hey, give me a call at 8:30 on my cell +1-555-555-0007.\"\n",
    "pattern = r\"\\+\\d{1}-\\d{3}-\\d{3}-\\d{4}\"\n",
    "re.findall(pattern, meeting_str)"
   ]
  },
  {
   "cell_type": "code",
   "execution_count": 40,
   "metadata": {},
   "outputs": [
    {
     "data": {
      "text/plain": [
       "[]"
      ]
     },
     "execution_count": 40,
     "metadata": {},
     "output_type": "execute_result"
    }
   ],
   "source": [
    "re.findall(pattern, my_phone_no)"
   ]
  },
  {
   "cell_type": "code",
   "execution_count": 41,
   "metadata": {},
   "outputs": [
    {
     "data": {
      "text/plain": [
       "['+1-555-555-0007']"
      ]
     },
     "execution_count": 41,
     "metadata": {},
     "output_type": "execute_result"
    }
   ],
   "source": [
    "# optional '+' or '-' in pattern using ?\n",
    "\n",
    "pattern = r\"\\+?\\d{1}-?\\d{3}-?\\d{3}-?\\d{4}\"\n",
    "re.findall(pattern, my_other_phone_no)"
   ]
  },
  {
   "cell_type": "code",
   "execution_count": 42,
   "metadata": {},
   "outputs": [
    {
     "data": {
      "text/plain": [
       "[]"
      ]
     },
     "execution_count": 42,
     "metadata": {},
     "output_type": "execute_result"
    }
   ],
   "source": [
    "re.findall(pattern, my_phone_no)"
   ]
  },
  {
   "cell_type": "code",
   "execution_count": 43,
   "metadata": {},
   "outputs": [
    {
     "data": {
      "text/plain": [
       "['+1-555-555-0007']"
      ]
     },
     "execution_count": 43,
     "metadata": {},
     "output_type": "execute_result"
    }
   ],
   "source": [
    "# optional '(',  ')' using ?\n",
    "\n",
    "pattern = r\"\\+?\\d{1}-?\\(?\\d{3}\\)?-?\\d{3}-?\\d{4}\"\n",
    "re.findall(pattern, my_other_phone_no)"
   ]
  },
  {
   "cell_type": "code",
   "execution_count": 44,
   "metadata": {},
   "outputs": [
    {
     "data": {
      "text/plain": [
       "[]"
      ]
     },
     "execution_count": 44,
     "metadata": {},
     "output_type": "execute_result"
    }
   ],
   "source": [
    "re.findall(pattern, my_phone_no)"
   ]
  },
  {
   "cell_type": "code",
   "execution_count": 45,
   "metadata": {},
   "outputs": [
    {
     "data": {
      "text/plain": [
       "['+1-555-555-3122', '1-555-555-3121', '+1(555)-555-3121', '+15555553121']"
      ]
     },
     "execution_count": 45,
     "metadata": {},
     "output_type": "execute_result"
    }
   ],
   "source": [
    "phone_numbers = \"My phone numbers are +1-555-555-31221, 1-555-555-3121,  555-555-3121, +1(555)-555-3121, +15555553121\"\n",
    "re.findall(pattern, phone_numbers)"
   ]
  },
  {
   "cell_type": "markdown",
   "metadata": {},
   "source": [
    "+  `\\d` -> `[0-9]`\n",
    "\n",
    "Both are representing digits in regular expression"
   ]
  },
  {
   "cell_type": "code",
   "execution_count": 46,
   "metadata": {},
   "outputs": [
    {
     "data": {
      "text/plain": [
       "['+1-555-555-3122', '1-555-555-3121', '+1(555)-555-3121', '+15555553121']"
      ]
     },
     "execution_count": 46,
     "metadata": {},
     "output_type": "execute_result"
    }
   ],
   "source": [
    "pattern = r\"\\+?\\d{1}-?\\(?[0-9]{3}\\)?-?[0-9]{3}-?[0-9]{4}\"\n",
    "re.findall(pattern, phone_numbers)"
   ]
  },
  {
   "cell_type": "markdown",
   "metadata": {},
   "source": [
    "## Groups\n",
    "\n",
    "`<country-code>-<area-code>-<exchange-code>-<line-number>`\n",
    "\n",
    "This represents:\n",
    "1-212-555-5123\n",
    "- 1 is the country code\n",
    "- 212 is the area code\n",
    "- 555 is the exchange code\n",
    "- 5123 is the line number "
   ]
  },
  {
   "cell_type": "code",
   "execution_count": 47,
   "metadata": {},
   "outputs": [
    {
     "name": "stdout",
     "output_type": "stream",
     "text": [
      "group +1-212-555-5123\n",
      "groups ('+1-', '212-', '555-', '5123')\n",
      "example [('+1-', '555-', '555-', '3122'), ('1-', '555-', '555-', '3121'), ('+1', '555', '555', '3121')]\n"
     ]
    }
   ],
   "source": [
    "# () paranthesis represents a group in re\n",
    "\n",
    "group_1 = \"(\\\\+?\\\\d{1}-?)\"\n",
    "group_2 = \"([0-9]{3}-?)\"\n",
    "group_3 = \"([0-9]{3}-?)\"\n",
    "group_4 = \"([0-9]{4})\"\n",
    "\n",
    "example = '+1-212-555-5123'\n",
    "grouped_pattern = f\"{group_1}{group_2}{group_3}{group_4}\"\n",
    "grouped_pattern = re.compile(grouped_pattern)\n",
    "\n",
    "matched = grouped_pattern.match(example)\n",
    "if matched:\n",
    "    print('group', matched.group())\n",
    "    print('groups', matched.groups())\n",
    "\n",
    "print(\"example\", grouped_pattern.findall(phone_numbers))"
   ]
  },
  {
   "cell_type": "code",
   "execution_count": 48,
   "metadata": {},
   "outputs": [
    {
     "data": {
      "text/plain": [
       "'+1-212-555-5123'"
      ]
     },
     "execution_count": 48,
     "metadata": {},
     "output_type": "execute_result"
    }
   ],
   "source": [
    "matched[0]"
   ]
  },
  {
   "cell_type": "code",
   "execution_count": 49,
   "metadata": {},
   "outputs": [
    {
     "data": {
      "text/plain": [
       "('+1-', '212-', '555-', '5123')"
      ]
     },
     "execution_count": 49,
     "metadata": {},
     "output_type": "execute_result"
    }
   ],
   "source": [
    "matched[1], matched[2], matched[3], matched[4]"
   ]
  },
  {
   "cell_type": "code",
   "execution_count": 50,
   "metadata": {},
   "outputs": [
    {
     "data": {
      "text/plain": [
       "'+1-212-555-5123'"
      ]
     },
     "execution_count": 50,
     "metadata": {},
     "output_type": "execute_result"
    }
   ],
   "source": [
    "matched.group(0)"
   ]
  },
  {
   "cell_type": "code",
   "execution_count": 51,
   "metadata": {},
   "outputs": [
    {
     "data": {
      "text/plain": [
       "('+1-', '212-')"
      ]
     },
     "execution_count": 51,
     "metadata": {},
     "output_type": "execute_result"
    }
   ],
   "source": [
    "matched.group(1), matched.group(2)"
   ]
  },
  {
   "cell_type": "markdown",
   "metadata": {},
   "source": [
    "## Named Groups"
   ]
  },
  {
   "cell_type": "code",
   "execution_count": 52,
   "metadata": {},
   "outputs": [
    {
     "name": "stdout",
     "output_type": "stream",
     "text": [
      "group +1-(212)-555-5123\n",
      "groups ('1', '212', '555', '5123')\n",
      "example [('1', '555', '555', '3122'), ('1', '555', '555', '3121'), ('1', '555', '555', '3121'), ('1', '555', '555', '3121')]\n"
     ]
    }
   ],
   "source": [
    "group_1 = \"\\\\+?-?(?P<country_code>\\\\d{1})-?\"\n",
    "group_2 = \"\\\\(?(?P<region_code>[0-9]{3})\\\\)?-?\"\n",
    "group_3 = \"(?P<exchange_code>[0-9]{3})-?\"\n",
    "group_4 = \"(?P<line_number>[0-9]{4})\"\n",
    "\n",
    "example = '+1-(212)-555-5123'\n",
    "# group1 can be optional\n",
    "grouped_pattern = f\"{group_1}{group_2}{group_3}{group_4}\"\n",
    "grouped_pattern = re.compile(grouped_pattern)\n",
    "\n",
    "matched = grouped_pattern.match(example)\n",
    "if matched:\n",
    "    print('group', matched.group())\n",
    "    print('groups', matched.groups())\n",
    "\n",
    "print(\"example\", grouped_pattern.findall(phone_numbers))"
   ]
  },
  {
   "cell_type": "code",
   "execution_count": 53,
   "metadata": {},
   "outputs": [
    {
     "data": {
      "text/plain": [
       "{'country_code': '1',\n",
       " 'region_code': '212',\n",
       " 'exchange_code': '555',\n",
       " 'line_number': '5123'}"
      ]
     },
     "execution_count": 53,
     "metadata": {},
     "output_type": "execute_result"
    }
   ],
   "source": [
    "matched.groupdict()"
   ]
  },
  {
   "cell_type": "code",
   "execution_count": 54,
   "metadata": {},
   "outputs": [
    {
     "data": {
      "text/plain": [
       "('1', '1')"
      ]
     },
     "execution_count": 54,
     "metadata": {},
     "output_type": "execute_result"
    }
   ],
   "source": [
    "matched[1], matched['country_code']"
   ]
  },
  {
   "cell_type": "code",
   "execution_count": 55,
   "metadata": {},
   "outputs": [
    {
     "data": {
      "text/plain": [
       "('212', '212')"
      ]
     },
     "execution_count": 55,
     "metadata": {},
     "output_type": "execute_result"
    }
   ],
   "source": [
    "matched[2], matched['region_code']"
   ]
  },
  {
   "cell_type": "code",
   "execution_count": 56,
   "metadata": {},
   "outputs": [
    {
     "name": "stdout",
     "output_type": "stream",
     "text": [
      "{'country_code': '1', 'region_code': '555', 'exchange_code': '555', 'line_number': '3122'}\n",
      "{'country_code': '1', 'region_code': '555', 'exchange_code': '555', 'line_number': '3121'}\n",
      "{'country_code': '1', 'region_code': '555', 'exchange_code': '555', 'line_number': '3121'}\n",
      "{'country_code': '1', 'region_code': '555', 'exchange_code': '555', 'line_number': '3121'}\n"
     ]
    }
   ],
   "source": [
    "for m in grouped_pattern.finditer(phone_numbers):\n",
    "    print(m.groupdict())"
   ]
  },
  {
   "cell_type": "code",
   "execution_count": 57,
   "metadata": {},
   "outputs": [
    {
     "data": {
      "text/plain": [
       "[{'country_code': '1',\n",
       "  'region_code': '555',\n",
       "  'exchange_code': '555',\n",
       "  'line_number': '3122',\n",
       "  'phone_number': '+1-555-555-3122'},\n",
       " {'country_code': '1',\n",
       "  'region_code': '555',\n",
       "  'exchange_code': '555',\n",
       "  'line_number': '3121',\n",
       "  'phone_number': '1-555-555-3121'},\n",
       " {'country_code': '1',\n",
       "  'region_code': '555',\n",
       "  'exchange_code': '555',\n",
       "  'line_number': '3121',\n",
       "  'phone_number': '+1(555)-555-3121'},\n",
       " {'country_code': '1',\n",
       "  'region_code': '555',\n",
       "  'exchange_code': '555',\n",
       "  'line_number': '3121',\n",
       "  'phone_number': '+15555553121'}]"
      ]
     },
     "execution_count": 57,
     "metadata": {},
     "output_type": "execute_result"
    }
   ],
   "source": [
    "dataset = []\n",
    "for m in grouped_pattern.finditer(phone_numbers):\n",
    "    data = {**m.groupdict()}\n",
    "    data['phone_number'] = m.group(0)\n",
    "    dataset.append(data)\n",
    "dataset"
   ]
  },
  {
   "cell_type": "code",
   "execution_count": 58,
   "metadata": {},
   "outputs": [
    {
     "data": {
      "text/html": [
       "<div>\n",
       "<style scoped>\n",
       "    .dataframe tbody tr th:only-of-type {\n",
       "        vertical-align: middle;\n",
       "    }\n",
       "\n",
       "    .dataframe tbody tr th {\n",
       "        vertical-align: top;\n",
       "    }\n",
       "\n",
       "    .dataframe thead th {\n",
       "        text-align: right;\n",
       "    }\n",
       "</style>\n",
       "<table border=\"1\" class=\"dataframe\">\n",
       "  <thead>\n",
       "    <tr style=\"text-align: right;\">\n",
       "      <th></th>\n",
       "      <th>country_code</th>\n",
       "      <th>region_code</th>\n",
       "      <th>exchange_code</th>\n",
       "      <th>line_number</th>\n",
       "      <th>phone_number</th>\n",
       "    </tr>\n",
       "  </thead>\n",
       "  <tbody>\n",
       "    <tr>\n",
       "      <th>0</th>\n",
       "      <td>1</td>\n",
       "      <td>555</td>\n",
       "      <td>555</td>\n",
       "      <td>3122</td>\n",
       "      <td>+1-555-555-3122</td>\n",
       "    </tr>\n",
       "    <tr>\n",
       "      <th>1</th>\n",
       "      <td>1</td>\n",
       "      <td>555</td>\n",
       "      <td>555</td>\n",
       "      <td>3121</td>\n",
       "      <td>1-555-555-3121</td>\n",
       "    </tr>\n",
       "    <tr>\n",
       "      <th>2</th>\n",
       "      <td>1</td>\n",
       "      <td>555</td>\n",
       "      <td>555</td>\n",
       "      <td>3121</td>\n",
       "      <td>+1(555)-555-3121</td>\n",
       "    </tr>\n",
       "    <tr>\n",
       "      <th>3</th>\n",
       "      <td>1</td>\n",
       "      <td>555</td>\n",
       "      <td>555</td>\n",
       "      <td>3121</td>\n",
       "      <td>+15555553121</td>\n",
       "    </tr>\n",
       "  </tbody>\n",
       "</table>\n",
       "</div>"
      ],
      "text/plain": [
       "  country_code region_code exchange_code line_number      phone_number\n",
       "0            1         555           555        3122   +1-555-555-3122\n",
       "1            1         555           555        3121    1-555-555-3121\n",
       "2            1         555           555        3121  +1(555)-555-3121\n",
       "3            1         555           555        3121      +15555553121"
      ]
     },
     "execution_count": 58,
     "metadata": {},
     "output_type": "execute_result"
    }
   ],
   "source": [
    "import pandas as pd\n",
    "df = pd.DataFrame(dataset)\n",
    "df"
   ]
  },
  {
   "cell_type": "markdown",
   "metadata": {},
   "source": [
    "## What about letters"
   ]
  },
  {
   "cell_type": "code",
   "execution_count": 59,
   "metadata": {},
   "outputs": [
    {
     "data": {
      "text/plain": [
       "['e',\n",
       " 'l',\n",
       " 'l',\n",
       " 'o',\n",
       " 'o',\n",
       " 'r',\n",
       " 'l',\n",
       " 'd',\n",
       " 'h',\n",
       " 'a',\n",
       " 'v',\n",
       " 'e',\n",
       " 's',\n",
       " 'c',\n",
       " 'o',\n",
       " 'r',\n",
       " 'e',\n",
       " 'o',\n",
       " 'f',\n",
       " 'o',\n",
       " 'w',\n",
       " 'c',\n",
       " 'o',\n",
       " 'o',\n",
       " 'l',\n",
       " 'i',\n",
       " 's',\n",
       " 't',\n",
       " 'h',\n",
       " 'a',\n",
       " 't']"
      ]
     },
     "execution_count": 59,
     "metadata": {},
     "output_type": "execute_result"
    }
   ],
   "source": [
    "my_text = \"Hello World, I have score of 10/10. How cool is that?\"\n",
    "\n",
    "pattern = r\"[a-z]\"\n",
    "re.findall(pattern, my_text)"
   ]
  },
  {
   "cell_type": "code",
   "execution_count": 60,
   "metadata": {},
   "outputs": [
    {
     "data": {
      "text/plain": [
       "['H',\n",
       " 'e',\n",
       " 'l',\n",
       " 'l',\n",
       " 'o',\n",
       " 'W',\n",
       " 'o',\n",
       " 'r',\n",
       " 'l',\n",
       " 'd',\n",
       " 'I',\n",
       " 'h',\n",
       " 'a',\n",
       " 'v',\n",
       " 'e',\n",
       " 's',\n",
       " 'c',\n",
       " 'o',\n",
       " 'r',\n",
       " 'e',\n",
       " 'o',\n",
       " 'f',\n",
       " 'H',\n",
       " 'o',\n",
       " 'w',\n",
       " 'c',\n",
       " 'o',\n",
       " 'o',\n",
       " 'l',\n",
       " 'i',\n",
       " 's',\n",
       " 't',\n",
       " 'h',\n",
       " 'a',\n",
       " 't']"
      ]
     },
     "execution_count": 60,
     "metadata": {},
     "output_type": "execute_result"
    }
   ],
   "source": [
    "pattern = r\"[a-zA-Z]\"\n",
    "re.findall(pattern, my_text)"
   ]
  },
  {
   "cell_type": "code",
   "execution_count": 61,
   "metadata": {},
   "outputs": [
    {
     "data": {
      "text/plain": [
       "['Hello', 'World', 'I', 'have', 'score', 'of', 'How', 'cool', 'is', 'that']"
      ]
     },
     "execution_count": 61,
     "metadata": {},
     "output_type": "execute_result"
    }
   ],
   "source": [
    "pattern = r\"[a-zA-Z]+\"\n",
    "re.findall(pattern, my_text)"
   ]
  },
  {
   "cell_type": "code",
   "execution_count": 62,
   "metadata": {},
   "outputs": [
    {
     "data": {
      "text/plain": [
       "['Hello',\n",
       " 'World',\n",
       " 'I',\n",
       " 'have',\n",
       " 'score',\n",
       " 'of',\n",
       " '10',\n",
       " '10',\n",
       " 'How',\n",
       " 'cool',\n",
       " 'is',\n",
       " 'that']"
      ]
     },
     "execution_count": 62,
     "metadata": {},
     "output_type": "execute_result"
    }
   ],
   "source": [
    "pattern = r\"\\w+\"\n",
    "re.findall(pattern, my_text)"
   ]
  },
  {
   "cell_type": "markdown",
   "metadata": {},
   "source": [
    "`\\w` -> `[0-9a-zA-Z]`\n",
    "\n",
    "Both are same."
   ]
  },
  {
   "cell_type": "code",
   "execution_count": 63,
   "metadata": {},
   "outputs": [
    {
     "data": {
      "text/plain": [
       "['Hello World', ' I have score of 10', '10. How cool is that']"
      ]
     },
     "execution_count": 63,
     "metadata": {},
     "output_type": "execute_result"
    }
   ],
   "source": [
    "pattern = r\"[0-9a-zA-Z .]+\"\n",
    "re.findall(pattern, my_text)"
   ]
  },
  {
   "cell_type": "markdown",
   "metadata": {},
   "source": [
    "## Metacharacters\n",
    "\n",
    "- `^` start of string\n",
    "- `[^0-9]` this matches everything except `[0-9]` because of `^`\n",
    "- `$` end of the string\n",
    "- `+` if 1 or more happens\n",
    "- `*` if 0 or more happens\n",
    "- `?` makes the value before ? optional\n",
    "- `|` or operator\n",
    "- `\\d` -> `[0-9]` -> digits\n",
    "- `\\D` -> `[^0-9]` -> not digits\n",
    "- `\\s` whitespace\n",
    "- `\\S` not whitespace\n",
    "- `\\w` -> `[0-9a-zA-Z]`\n",
    "- `\\W` -> `[^0-9a-zA-Z]`\n"
   ]
  },
  {
   "cell_type": "code",
   "execution_count": 32,
   "metadata": {},
   "outputs": [],
   "source": []
  }
 ],
 "metadata": {
  "kernelspec": {
   "display_name": "base",
   "language": "python",
   "name": "python3"
  },
  "language_info": {
   "codemirror_mode": {
    "name": "ipython",
    "version": 3
   },
   "file_extension": ".py",
   "mimetype": "text/x-python",
   "name": "python",
   "nbconvert_exporter": "python",
   "pygments_lexer": "ipython3",
   "version": "3.11.0"
  },
  "orig_nbformat": 2
 },
 "nbformat": 4,
 "nbformat_minor": 2
}
