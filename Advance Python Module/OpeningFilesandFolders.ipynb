{
 "cells": [
  {
   "cell_type": "markdown",
   "metadata": {},
   "source": [
    "# Opening files and folders in python"
   ]
  },
  {
   "cell_type": "code",
   "execution_count": 6,
   "metadata": {},
   "outputs": [
    {
     "output_type": "execute_result",
     "data": {
      "text/plain": "'/media/its-k/Soft Disk/Programming/Python.py/Advance Python Module'"
     },
     "metadata": {},
     "execution_count": 6
    }
   ],
   "source": [
    "pwd"
   ]
  },
  {
   "cell_type": "code",
   "execution_count": 7,
   "metadata": {},
   "outputs": [],
   "source": [
    "f = open('practice.txt','w+')\n",
    "f.write('This is a test string.')\n",
    "f.close()"
   ]
  },
  {
   "cell_type": "code",
   "execution_count": 8,
   "metadata": {},
   "outputs": [],
   "source": [
    "import os"
   ]
  },
  {
   "cell_type": "code",
   "execution_count": 9,
   "metadata": {},
   "outputs": [
    {
     "output_type": "execute_result",
     "data": {
      "text/plain": "'/media/its-k/Soft Disk/Programming/Python.py/Advance Python Module'"
     },
     "metadata": {},
     "execution_count": 9
    }
   ],
   "source": [
    "os.getcwd()"
   ]
  },
  {
   "cell_type": "code",
   "execution_count": 15,
   "metadata": {},
   "outputs": [
    {
     "output_type": "execute_result",
     "data": {
      "text/plain": "['Games',\n '.Trash-1000',\n '100D5600',\n 'APK',\n 'Conda Environment',\n 'Documents',\n 'Downloads',\n 'Linux-Packages',\n 'M L',\n 'Machine Learning',\n 'Programming',\n 'travello.zip',\n 'UDEMY COURSES',\n 'Windows-Softwares',\n '_Programming Libraries',\n '_Programming Projects']"
     },
     "metadata": {},
     "execution_count": 15
    }
   ],
   "source": [
    "os.listdir('/media/its-k/Soft Disk')"
   ]
  },
  {
   "cell_type": "markdown",
   "metadata": {},
   "source": [
    "## Move and copy files"
   ]
  },
  {
   "cell_type": "code",
   "execution_count": 16,
   "metadata": {},
   "outputs": [],
   "source": [
    "import shutil"
   ]
  },
  {
   "cell_type": "code",
   "execution_count": 17,
   "metadata": {},
   "outputs": [
    {
     "output_type": "execute_result",
     "data": {
      "text/plain": "['Games',\n '.Trash-1000',\n '100D5600',\n 'APK',\n 'Conda Environment',\n 'Documents',\n 'Downloads',\n 'Linux-Packages',\n 'M L',\n 'Machine Learning',\n 'practice.txt',\n 'Programming',\n 'travello.zip',\n 'UDEMY COURSES',\n 'Windows-Softwares',\n '_Programming Libraries',\n '_Programming Projects']"
     },
     "metadata": {},
     "execution_count": 17
    }
   ],
   "source": [
    "shutil.move('practice.txt', '/media/its-k/Soft Disk')\n",
    "os.listdir('/media/its-k/Soft Disk')"
   ]
  },
  {
   "cell_type": "code",
   "execution_count": 18,
   "metadata": {},
   "outputs": [
    {
     "output_type": "execute_result",
     "data": {
      "text/plain": "['OpeningFilesandFolders.ipynb', 'practice.txt']"
     },
     "metadata": {},
     "execution_count": 18
    }
   ],
   "source": [
    "shutil.copy('/media/its-k/Soft Disk/practice.txt', os.getcwd())\n",
    "os.listdir()"
   ]
  },
  {
   "cell_type": "markdown",
   "metadata": {},
   "source": [
    "## Opening Folders, SubFolders and Files"
   ]
  },
  {
   "cell_type": "code",
   "execution_count": 23,
   "metadata": {
    "tags": []
   },
   "outputs": [
    {
     "output_type": "stream",
     "name": "stdout",
     "text": "Currently looking at /media/its-k/Soft Disk/Programming/Python.py/Python Bootcamp\n\nThe subfolders are: \n\t Subfolder: Final Capstone Project\n\t Subfolder: Milestone Project 1\n\t Subfolder: Milestone Project 2\n\nThe files are: \n\t\t File: BankAccount.py\n\t\t File: concatenate.py\n\t\t File: Cylinder.py\n\t\t File: digits_to_number.py\n\t\t File: filter_words.py\n\t\t File: Line.py\n\t\t File: word_length.py\n\nCurrently looking at /media/its-k/Soft Disk/Programming/Python.py/Python Bootcamp/Final Capstone Project\n\nThe subfolders are: \n\t Subfolder: .vscode\n\nThe files are: \n\t\t File: Alarm_clock.py\n\t\t File: Binary_convertor.py\n\t\t File: City_distance.py\n\t\t File: Fibnacci_sequence.py\n\t\t File: FindCostOfTile.py\n\t\t File: FindPI.py\n\t\t File: Find_e.py\n\t\t File: Find_prime.py\n\t\t File: MortgageCalculator.py\n\t\t File: Next_primeNumber.py\n\nCurrently looking at /media/its-k/Soft Disk/Programming/Python.py/Python Bootcamp/Final Capstone Project/.vscode\n\nThe subfolders are: \n\nThe files are: \n\t\t File: settings.json\n\nCurrently looking at /media/its-k/Soft Disk/Programming/Python.py/Python Bootcamp/Milestone Project 1\n\nThe subfolders are: \n\nThe files are: \n\t\t File: Advance.py\n\t\t File: Tic_tac.py\n\nCurrently looking at /media/its-k/Soft Disk/Programming/Python.py/Python Bootcamp/Milestone Project 2\n\nThe subfolders are: \n\nThe files are: \n\t\t File: BlackJack.py\n\n"
    }
   ],
   "source": [
    "file_path = '/media/its-k/Soft Disk/Programming/Python.py/Python Bootcamp'\n",
    "for folder, sub_folders, files in os.walk(file_path):\n",
    "    print(f\"Currently looking at {folder}\")\n",
    "    print()\n",
    "    print('The subfolders are: ')\n",
    "    for sub_fold in sub_folders:\n",
    "        print(f\"\\t Subfolder: {sub_fold}\")\n",
    "\n",
    "    print()\n",
    "    print('The files are: ')\n",
    "    for f in files:\n",
    "        print(f\"\\t\\t File: {f}\")\n",
    "    print()\n"
   ]
  },
  {
   "cell_type": "markdown",
   "metadata": {},
   "source": [
    "## Deleting Files"
   ]
  },
  {
   "cell_type": "markdown",
   "metadata": {},
   "source": [
    "Move files to trash install `send2trash` module\n",
    "by running:\n",
    "```bash\n",
    "pip install send2trash\n",
    "```\n",
    "\n",
    "than run \n",
    "\n",
    "```python\n",
    "import send2trash\n",
    "send2trash.send2trash(file_path)\n",
    "```\n",
    " "
   ]
  },
  {
   "cell_type": "code",
   "execution_count": null,
   "metadata": {},
   "outputs": [],
   "source": []
  }
 ],
 "metadata": {
  "language_info": {
   "codemirror_mode": {
    "name": "ipython",
    "version": 3
   },
   "file_extension": ".py",
   "mimetype": "text/x-python",
   "name": "python",
   "nbconvert_exporter": "python",
   "pygments_lexer": "ipython3",
   "version": "3.7.4-final"
  },
  "orig_nbformat": 2,
  "kernelspec": {
   "name": "python37464bitlearningcondacf134821621f44b6a2588003cb8c2979",
   "display_name": "Python 3.7.4 64-bit ('Learning': conda)"
  }
 },
 "nbformat": 4,
 "nbformat_minor": 2
}