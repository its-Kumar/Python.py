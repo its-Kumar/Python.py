{
 "cells": [
  {
   "cell_type": "markdown",
   "metadata": {},
   "source": [
    "# Array Manipulation"
   ]
  },
  {
   "cell_type": "code",
   "execution_count": 1,
   "metadata": {},
   "outputs": [],
   "source": [
    "# importing the numpy library\n",
    "import numpy as np"
   ]
  },
  {
   "cell_type": "code",
   "execution_count": 2,
   "metadata": {},
   "outputs": [
    {
     "name": "stdout",
     "output_type": "stream",
     "text": [
      "Before using ravel function\n",
      "[[ 0  1  2  3  4]\n",
      " [ 5  6  7  8  9]\n",
      " [10 11 12 13 14]]\n",
      "after applying ravel\n",
      "[ 0  1  2  3  4  5  6  7  8  9 10 11 12 13 14]\n"
     ]
    }
   ],
   "source": [
    "# Changing the shape of array:\n",
    "\n",
    "#reshape()\n",
    "#ravel(data, order) --- returns a flat array\n",
    "\n",
    "#np.ravel(array, order)\n",
    "\n",
    "x = np.arange(15).reshape(3,5)\n",
    "print(\"Before using ravel function\")\n",
    "print(x)\n",
    "\n",
    "print('after applying ravel')\n",
    "print(x.ravel())"
   ]
  },
  {
   "cell_type": "code",
   "execution_count": 3,
   "metadata": {},
   "outputs": [
    {
     "name": "stdout",
     "output_type": "stream",
     "text": [
      "[[ 0  1  2  3]\n",
      " [ 4  5  6  7]\n",
      " [ 8  9 10 11]]\n",
      "array after transposing:\n",
      "[[ 0  4  8]\n",
      " [ 1  5  9]\n",
      " [ 2  6 10]\n",
      " [ 3  7 11]]\n"
     ]
    }
   ],
   "source": [
    "# Transposing\n",
    "#transpose(array, axes)\n",
    "x = np.arange(12).reshape(3,4)\n",
    "print(x)\n",
    "print('array after transposing:')\n",
    "print(np.transpose(x))\n"
   ]
  },
  {
   "cell_type": "code",
   "execution_count": 4,
   "metadata": {},
   "outputs": [
    {
     "name": "stdout",
     "output_type": "stream",
     "text": [
      "[[0 1 2]\n",
      " [3 4 5]\n",
      " [6 7 8]]\n",
      "array after transposing:\n",
      "[[0 3 6]\n",
      " [1 4 7]\n",
      " [2 5 8]]\n"
     ]
    }
   ],
   "source": [
    "#ndarray.T\n",
    "x = np.arange(9).reshape(3,3)\n",
    "print(x)\n",
    "print('array after transposing:')\n",
    "print(x.T)\n"
   ]
  },
  {
   "cell_type": "code",
   "execution_count": 5,
   "metadata": {},
   "outputs": [
    {
     "name": "stdout",
     "output_type": "stream",
     "text": [
      "array y:\n",
      "[[[ 0  1]\n",
      "  [ 2  3]\n",
      "  [ 4  5]]\n",
      "\n",
      " [[ 6  7]\n",
      "  [ 8  9]\n",
      "  [10 11]]]\n"
     ]
    }
   ],
   "source": [
    "#np.rollaxis(array, axis, start)-- rolls the axis backwards\n",
    "#axis --- axis to roll backwards\n",
    "#start --- zero by default.\n",
    "\n",
    "y = np.arange(12).reshape(2,3,2)\n",
    "print('array y:')\n",
    "print(y)"
   ]
  },
  {
   "cell_type": "code",
   "execution_count": 7,
   "metadata": {},
   "outputs": [
    {
     "name": "stdout",
     "output_type": "stream",
     "text": [
      "array y after applying rollaxis\n",
      "[[[ 0  2  4]\n",
      "  [ 6  8 10]]\n",
      "\n",
      " [[ 1  3  5]\n",
      "  [ 7  9 11]]]\n"
     ]
    }
   ],
   "source": [
    "print('array y after applying rollaxis')\n",
    "print(np.rollaxis(y,2)) #rolls axis 2 to axis 0"
   ]
  },
  {
   "cell_type": "code",
   "execution_count": 8,
   "metadata": {},
   "outputs": [
    {
     "name": "stdout",
     "output_type": "stream",
     "text": [
      "[[[ 0  2  4]\n",
      "  [ 1  3  5]]\n",
      "\n",
      " [[ 6  8 10]\n",
      "  [ 7  9 11]]]\n"
     ]
    }
   ],
   "source": [
    "print(np.rollaxis(y,2,1))"
   ]
  },
  {
   "cell_type": "code",
   "execution_count": 9,
   "metadata": {},
   "outputs": [
    {
     "name": "stdout",
     "output_type": "stream",
     "text": [
      "[[[0 1]\n",
      "  [2 3]]\n",
      "\n",
      " [[4 5]\n",
      "  [6 7]]]\n",
      "array after swapping the axes:\n",
      "[[[0 1]\n",
      "  [4 5]]\n",
      "\n",
      " [[2 3]\n",
      "  [6 7]]]\n"
     ]
    }
   ],
   "source": [
    "#Swapaxes ----> interchanges the axes of an array\n",
    "#np.swapaxes(array, axis1, axis2)\n",
    "\n",
    "a = np.arange(8).reshape(2,2,2) \n",
    "print(a) \n",
    "\n",
    "# now swap numbers between axis 0 (along depth) and axis 1 \n",
    "#(along width) \n",
    "print(\"array after swapping the axes:\")\n",
    "print(np.swapaxes(a, 1, 0))"
   ]
  },
  {
   "cell_type": "markdown",
   "metadata": {},
   "source": [
    "### Changing dimesnions"
   ]
  },
  {
   "cell_type": "code",
   "execution_count": 12,
   "metadata": {},
   "outputs": [
    {
     "name": "stdout",
     "output_type": "stream",
     "text": [
      "<numpy.broadcast object at 0x0000010C19848E80>\n",
      "(3, 3)\n",
      "[[0 1 2 3]]\n",
      "[[0 1 2 3]\n",
      " [0 1 2 3]\n",
      " [0 1 2 3]\n",
      " [0 1 2 3]]\n"
     ]
    }
   ],
   "source": [
    "#np.broadcast\n",
    "x = np.array([[1], [2], [3]]) \n",
    "y = np.array([4, 5, 6])  \n",
    "b = np.broadcast(x,y) \n",
    "print(b)\n",
    "print(b.shape)\n",
    "\n",
    "#np.broadcast_to(array, shape) --- broadcasts an array to a new shape\n",
    "a = np.arange(4).reshape(1,4) \n",
    "print(a)\n",
    "print(np.broadcast_to(a,(4,4)))"
   ]
  },
  {
   "cell_type": "code",
   "execution_count": 14,
   "metadata": {},
   "outputs": [
    {
     "name": "stdout",
     "output_type": "stream",
     "text": [
      "[[[0 1 2]\n",
      "  [3 4 5]\n",
      "  [6 7 8]]]\n",
      "[[0 1 2]\n",
      " [3 4 5]\n",
      " [6 7 8]]\n",
      "(1, 3, 3)\n",
      "(3, 3)\n"
     ]
    }
   ],
   "source": [
    "#squeeze ---removes one-dimensional entry from the shape of the given array\n",
    "#np.squeeze(array,axis)\n",
    "x = np.arange(9).reshape(1,3,3) \n",
    "print(x)\n",
    "\n",
    "y = np.squeeze(x)\n",
    "print(y)\n",
    "\n",
    "print(x.shape)\n",
    "print(y.shape)"
   ]
  },
  {
   "cell_type": "markdown",
   "metadata": {},
   "source": [
    "### Joining arrays"
   ]
  },
  {
   "cell_type": "code",
   "execution_count": 16,
   "metadata": {},
   "outputs": [
    {
     "name": "stdout",
     "output_type": "stream",
     "text": [
      "[[1 2]\n",
      " [3 4]]\n",
      "[[5 6]\n",
      " [7 8]]\n"
     ]
    }
   ],
   "source": [
    "#np.concatenate((arr1,arr2...),axis) --- joins sequence of arrays along an axis\n",
    "a = np.array([[1,2],[3,4]]) \n",
    "print(a)  \n",
    "b = np.array([[5,6],[7,8]])\n",
    "print(b)"
   ]
  },
  {
   "cell_type": "code",
   "execution_count": 17,
   "metadata": {},
   "outputs": [
    {
     "name": "stdout",
     "output_type": "stream",
     "text": [
      "[[1 2]\n",
      " [3 4]\n",
      " [5 6]\n",
      " [7 8]]\n"
     ]
    }
   ],
   "source": [
    "print(np.concatenate((a,b)))#joining two arrays along axis 0 "
   ]
  },
  {
   "cell_type": "code",
   "execution_count": 18,
   "metadata": {},
   "outputs": [
    {
     "name": "stdout",
     "output_type": "stream",
     "text": [
      "[[1 2 5 6]\n",
      " [3 4 7 8]]\n"
     ]
    }
   ],
   "source": [
    "print(np.concatenate((a,b),axis = 1)) #joining arrays on axis 1"
   ]
  },
  {
   "cell_type": "code",
   "execution_count": 19,
   "metadata": {},
   "outputs": [
    {
     "name": "stdout",
     "output_type": "stream",
     "text": [
      "[[1 2]\n",
      " [3 4]]\n",
      "[[5 6]\n",
      " [7 8]]\n",
      "Stacking two arrays along axis 0:\n",
      "[[[1 2]\n",
      "  [3 4]]\n",
      "\n",
      " [[5 6]\n",
      "  [7 8]]]\n",
      "Stacking two arrays along axis 1:\n",
      "[[[1 2]\n",
      "  [5 6]]\n",
      "\n",
      " [[3 4]\n",
      "  [7 8]]]\n"
     ]
    }
   ],
   "source": [
    "#stack(arrays,axis) --- joins sequence of arrays along a new axis\n",
    "a = np.array([[1,2],[3,4]]) \n",
    "print(a) \n",
    "b = np.array([[5,6],[7,8]])  \n",
    "print(b) \n",
    "print('Stacking two arrays along axis 0:') \n",
    "print(np.stack((a,b),0))  \n",
    "print('Stacking two arrays along axis 1:') \n",
    "print(np.stack((a,b),1))"
   ]
  },
  {
   "cell_type": "code",
   "execution_count": 20,
   "metadata": {},
   "outputs": [
    {
     "name": "stdout",
     "output_type": "stream",
     "text": [
      "[[1 2]\n",
      " [3 4]]\n",
      "[[5 6]\n",
      " [7 8]]\n",
      "hstack:\n",
      "[[1 2 5 6]\n",
      " [3 4 7 8]]\n"
     ]
    }
   ],
   "source": [
    "#hstack --- stacks arrays horizontally\n",
    "a = np.array([[1,2],[3,4]]) \n",
    "print(a) \n",
    "b = np.array([[5,6],[7,8]]) \n",
    "print(b)\n",
    "c = np.hstack((a,b)) \n",
    "print('hstack:')\n",
    "print(c)"
   ]
  },
  {
   "cell_type": "code",
   "execution_count": 21,
   "metadata": {},
   "outputs": [
    {
     "name": "stdout",
     "output_type": "stream",
     "text": [
      "vstack:\n",
      "[[1 2]\n",
      " [3 4]\n",
      " [5 6]\n",
      " [7 8]]\n"
     ]
    }
   ],
   "source": [
    "#vstack --- stacks arrays vertically\n",
    "c = np.vstack((a,b))\n",
    "print('vstack:')\n",
    "print(c)"
   ]
  },
  {
   "cell_type": "markdown",
   "metadata": {},
   "source": [
    "### Splitting arrays"
   ]
  },
  {
   "cell_type": "code",
   "execution_count": 22,
   "metadata": {},
   "outputs": [
    {
     "name": "stdout",
     "output_type": "stream",
     "text": [
      "[0 1 2 3 4 5 6 7 8]\n",
      "Splitting the array in 3 equal-sized subarrays:\n",
      "[array([0, 1, 2]), array([3, 4, 5]), array([6, 7, 8])]\n"
     ]
    }
   ],
   "source": [
    "\n",
    "#np.split(array,indices,axis) --- splits an array into multiple sub arrays\n",
    "a = np.arange(9) \n",
    "print(a) \n",
    "print('Splitting the array in 3 equal-sized subarrays:') \n",
    "b = np.split(a,3) \n",
    "print(b)"
   ]
  },
  {
   "cell_type": "code",
   "execution_count": 23,
   "metadata": {},
   "outputs": [
    {
     "name": "stdout",
     "output_type": "stream",
     "text": [
      "Split the array at positions indicated in 1-D array:\n",
      "[array([0, 1, 2, 3]), array([4, 5, 6]), array([7, 8])]\n"
     ]
    }
   ],
   "source": [
    "print('Split the array at positions indicated in 1-D array:') \n",
    "c = np.split(a,[4,7])\n",
    "print(c) "
   ]
  },
  {
   "cell_type": "code",
   "execution_count": 24,
   "metadata": {},
   "outputs": [
    {
     "name": "stdout",
     "output_type": "stream",
     "text": [
      "[[ 0  1  2  3]\n",
      " [ 4  5  6  7]\n",
      " [ 8  9 10 11]\n",
      " [12 13 14 15]]\n",
      "Horizontal splitting:\n",
      "[array([[ 0,  1],\n",
      "       [ 4,  5],\n",
      "       [ 8,  9],\n",
      "       [12, 13]]), array([[ 2,  3],\n",
      "       [ 6,  7],\n",
      "       [10, 11],\n",
      "       [14, 15]])]\n",
      "Vertical splitting:\n",
      "[array([[0, 1, 2, 3],\n",
      "       [4, 5, 6, 7]]), array([[ 8,  9, 10, 11],\n",
      "       [12, 13, 14, 15]])]\n"
     ]
    }
   ],
   "source": [
    "#hsplit\n",
    "a = np.arange(16).reshape(4,4) \n",
    "print(a) \n",
    "print('Horizontal splitting:') \n",
    "b = np.hsplit(a,2) \n",
    "print(b)\n",
    "\n",
    "#vsplit\n",
    "print('Vertical splitting:') \n",
    "b = np.vsplit(a,2) \n",
    "print(b)"
   ]
  },
  {
   "cell_type": "markdown",
   "metadata": {},
   "source": [
    "### Adding and Removing elements"
   ]
  },
  {
   "cell_type": "code",
   "execution_count": 25,
   "metadata": {},
   "outputs": [
    {
     "name": "stdout",
     "output_type": "stream",
     "text": [
      "[[1 2 3]\n",
      " [4 5 6]]\n",
      "(2, 3)\n",
      "[[1 2]\n",
      " [3 4]\n",
      " [5 6]]\n",
      "(3, 2)\n"
     ]
    }
   ],
   "source": [
    "##resize --- returns a new array with specified shape\n",
    "a = np.array([[1,2,3],[4,5,6]]) \n",
    "print(a) \n",
    "print(a.shape) \n",
    "\n",
    "b = np.resize(a, (3,2)) \n",
    "print(b)  \n",
    "print(b.shape)"
   ]
  },
  {
   "cell_type": "code",
   "execution_count": 26,
   "metadata": {},
   "outputs": [
    {
     "name": "stdout",
     "output_type": "stream",
     "text": [
      "Resizing the second array:\n",
      "[[1 2 3]\n",
      " [4 5 6]\n",
      " [1 2 3]]\n"
     ]
    }
   ],
   "source": [
    "# Observe that the first row of a is repeated in b since the size is bigger \n",
    "print('Resizing the second array:') \n",
    "b = np.resize(a,(3,3)) \n",
    "print(b)"
   ]
  },
  {
   "cell_type": "code",
   "execution_count": 27,
   "metadata": {},
   "outputs": [
    {
     "name": "stdout",
     "output_type": "stream",
     "text": [
      "[[1 2 3]\n",
      " [4 5 6]]\n",
      "append elements to array:\n",
      "[1 2 3 4 5 6 7 8 9]\n",
      "append elements along axis 0:\n",
      "[[1 2 3]\n",
      " [4 5 6]\n",
      " [7 8 9]]\n",
      "append elements along axis 1:\n",
      "[[1 2 3 5 5 5]\n",
      " [4 5 6 7 8 9]]\n"
     ]
    }
   ],
   "source": [
    "# append(array,values/elements,axis) --- appends the values to the end of array\n",
    "a = np.array([[1,2,3],[4,5,6]]) \n",
    "print(a) \n",
    "print('append elements to array:') \n",
    "print(np.append(a, [7,8,9])) \n",
    "  \n",
    "print('append elements along axis 0:') \n",
    "print(np.append(a, [[7,8,9]],axis = 0)) \n",
    "  \n",
    "print('append elements along axis 1:') \n",
    "print(np.append(a, [[5,5,5],[7,8,9]],axis = 1))"
   ]
  },
  {
   "cell_type": "code",
   "execution_count": 28,
   "metadata": {},
   "outputs": [
    {
     "name": "stdout",
     "output_type": "stream",
     "text": [
      "[[1 2]\n",
      " [3 4]\n",
      " [5 6]]\n",
      "Axis parameter not passed so the input array is flattened before insertion\n",
      "[ 1  2  3 11 12  4  5  6]\n",
      "Axis parameter passed. The values array is broadcast to match input array\n",
      "Broadcast along axis 0:\n",
      "[[ 1  2]\n",
      " [11 11]\n",
      " [ 3  4]\n",
      " [ 5  6]]\n",
      "Broadcast along axis 1:\n",
      "[[ 1 11  2]\n",
      " [ 3 11  4]\n",
      " [ 5 11  6]]\n"
     ]
    }
   ],
   "source": [
    "##insert(array,obj,value,axis) --- inserts the values along a given axis\n",
    "#obj -- The index before which insertion is to be made\n",
    "a = np.array([[1,2],[3,4],[5,6]]) \n",
    "print(a) \n",
    "  \n",
    "print('Axis parameter not passed so the input array is flattened before insertion')\n",
    "print(np.insert(a,3,[11,12])) \n",
    " \n",
    "print('Axis parameter passed. The values array is broadcast to match input array')\n",
    "print('Broadcast along axis 0:') \n",
    "print(np.insert(a,1,[11],axis = 0)) \n",
    " \n",
    "print('Broadcast along axis 1:') \n",
    "print(np.insert(a,1,11,axis = 1))\n"
   ]
  },
  {
   "cell_type": "code",
   "execution_count": 29,
   "metadata": {},
   "outputs": [
    {
     "name": "stdout",
     "output_type": "stream",
     "text": [
      "[[ 0  1  2  3]\n",
      " [ 4  5  6  7]\n",
      " [ 8  9 10 11]]\n",
      "[ 0  1  2  3  4  6  7  8  9 10 11]\n",
      "Column 2 deleted:\n",
      "[[ 0  2  3]\n",
      " [ 4  6  7]\n",
      " [ 8 10 11]]\n"
     ]
    }
   ],
   "source": [
    "##np.delete(array,obj,axis)\n",
    "#obj -- can be a slice, integer or array of integers\n",
    "a = np.arange(12).reshape(3,4) \n",
    "print(a) \n",
    "print(np.delete(a,5)) \n",
    "  \n",
    "print('Column 2 deleted:')  \n",
    "print(np.delete(a,1,axis = 1)) \n"
   ]
  },
  {
   "cell_type": "code",
   "execution_count": 31,
   "metadata": {},
   "outputs": [
    {
     "name": "stdout",
     "output_type": "stream",
     "text": [
      "[5 2 6 2 7 5 6 8 2 9]\n",
      "Unique values of array a:\n",
      "[2 5 6 7 8 9]\n"
     ]
    }
   ],
   "source": [
    "##np.unique(arr, return_index, return_inverse, return_counts)\n",
    "a = np.array([5,2,6,2,7,5,6,8,2,9]) \n",
    "print(a) \n",
    "print('Unique values of array a:') \n",
    "u = np.unique(a) \n",
    "print(u)   \n",
    "\n"
   ]
  },
  {
   "cell_type": "code",
   "execution_count": 32,
   "metadata": {},
   "outputs": [
    {
     "name": "stdout",
     "output_type": "stream",
     "text": [
      "Unique array and Indices array:\n",
      "[1 0 2 4 7 9]\n"
     ]
    }
   ],
   "source": [
    "print('Unique array and Indices array:') \n",
    "u,indices = np.unique(a, return_index = True) \n",
    "print(indices)"
   ]
  },
  {
   "cell_type": "code",
   "execution_count": 33,
   "metadata": {},
   "outputs": [
    {
     "name": "stdout",
     "output_type": "stream",
     "text": [
      "Indices of unique array:\n",
      "[2 5 6 7 8 9]\n",
      "Indices are:\n",
      "[1 0 2 0 3 1 2 4 0 5]\n",
      "reconstructing the original array using indices:\n",
      "[5 2 6 2 7 5 6 8 2 9]\n",
      "return the count of repetitions of unique elements:\n",
      "[2 5 6 7 8 9]\n",
      "[3 2 2 1 1 1]\n"
     ]
    }
   ],
   "source": [
    "print('Indices of unique array:') \n",
    "u,indices = np.unique(a,return_inverse = True) \n",
    "print(u)  \n",
    "\n",
    "print('Indices are:') \n",
    "print(indices) \n",
    "\n",
    "print('reconstructing the original array using indices:') \n",
    "print(u[indices])\n",
    "\n",
    "print('return the count of repetitions of unique elements:') \n",
    "u,indices = np.unique(a,return_counts = True) \n",
    "print(u) \n",
    "print(indices)\n"
   ]
  },
  {
   "cell_type": "markdown",
   "metadata": {},
   "source": [
    "### String Functions"
   ]
  },
  {
   "cell_type": "code",
   "execution_count": 35,
   "metadata": {},
   "outputs": [
    {
     "name": "stdout",
     "output_type": "stream",
     "text": [
      "['Hello! Welcome to Numpy']\n"
     ]
    }
   ],
   "source": [
    "#add() --- returns element wise string concatenation of two arrays\n",
    "x = np.char.add(['Hello! '],['Welcome to Numpy'])\n",
    "print(x)"
   ]
  },
  {
   "cell_type": "code",
   "execution_count": 36,
   "metadata": {},
   "outputs": [
    {
     "name": "stdout",
     "output_type": "stream",
     "text": [
      "Numpy Numpy Numpy \n"
     ]
    }
   ],
   "source": [
    "#multiply() --- returns multiple concatenation\n",
    "print(np.char.multiply('Numpy ',3))"
   ]
  },
  {
   "cell_type": "code",
   "execution_count": 37,
   "metadata": {},
   "outputs": [
    {
     "name": "stdout",
     "output_type": "stream",
     "text": [
      "**Numpy***\n"
     ]
    }
   ],
   "source": [
    "#center() ---> returns an array of the required width so that the input string\n",
    "      #is centered and padded on the left and right with fillchar\n",
    "# np.char.center(arr, width,fillchar) \n",
    "print(np.char.center('Numpy', 10,fillchar = '*'))\n"
   ]
  },
  {
   "cell_type": "code",
   "execution_count": 38,
   "metadata": {},
   "outputs": [
    {
     "name": "stdout",
     "output_type": "stream",
     "text": [
      "HI\n",
      "['HELLO' 'NUMPY']\n",
      "hi\n",
      "['hello' 'numpy']\n",
      "Hi\n",
      "['Hello' 'Numpy']\n"
     ]
    }
   ],
   "source": [
    "#upper()\n",
    "print(np.char.upper('hi')) \n",
    "print(np.char.upper(['hello','numpy']))\n",
    "\n",
    "#lower()\n",
    "print(np.char.lower('HI')) \n",
    "print(np.char.lower(['HELLO','NUMPY']))\n",
    "\n",
    "#capitalize()\n",
    "print(np.char.capitalize('hi')) \n",
    "print(np.char.capitalize(['hello','numpy']))"
   ]
  },
  {
   "cell_type": "code",
   "execution_count": 39,
   "metadata": {},
   "outputs": [
    {
     "name": "stdout",
     "output_type": "stream",
     "text": [
      "['hello', 'how', 'are', 'you?']\n",
      "['BawarchiBiryani', 'Rtc X Roads', 'Hyderabad']\n",
      "['hello', 'how are you?']\n",
      "meerpet\n"
     ]
    }
   ],
   "source": [
    "#split()\n",
    "print(np.char.split('hello how are you?')) \n",
    "print(np.char.split('BawarchiBiryani,Rtc X Roads,Hyderabad', sep = ','))\n",
    "\n",
    "#splitline() --- returns a list of elements in the array, breaking at line boundaries\n",
    "print(np.char.splitlines('hello\\nhow are you?')) \n",
    "\n",
    "#strip()\n",
    "print(np.char.strip('ameerpet','a')) "
   ]
  },
  {
   "cell_type": "code",
   "execution_count": 40,
   "metadata": {},
   "outputs": [
    {
     "name": "stdout",
     "output_type": "stream",
     "text": [
      "d:m:y\n",
      "['d/m/y' 'y-m-d']\n",
      "We're learning Data Science\n"
     ]
    }
   ],
   "source": [
    "#join() --- returns a string in which the individual characters are\n",
    "            #joined by separator character specified.\n",
    "\n",
    "print(np.char.join(':','dmy')) \n",
    "print(np.char.join(['/','-'],['dmy','ymd']))\n",
    "\n",
    "#replace()\n",
    "print(np.char.replace(\"I'm learning Data Science\", \"I'm\", \"We're\"))\n"
   ]
  },
  {
   "cell_type": "markdown",
   "metadata": {},
   "source": [
    "### Arithmetic operations"
   ]
  },
  {
   "cell_type": "code",
   "execution_count": 42,
   "metadata": {},
   "outputs": [
    {
     "name": "stdout",
     "output_type": "stream",
     "text": [
      "[[0 1 2]\n",
      " [3 4 5]\n",
      " [6 7 8]]\n",
      "[10 20 30]\n",
      "array after adding:\n",
      "[[10 21 32]\n",
      " [13 24 35]\n",
      " [16 27 38]]\n",
      "array after subtracting:\n",
      "[[10 19 28]\n",
      " [ 7 16 25]\n",
      " [ 4 13 22]]\n",
      "array after multiplying:\n",
      "[[  0  20  60]\n",
      " [ 30  80 150]\n",
      " [ 60 140 240]]\n"
     ]
    }
   ],
   "source": [
    "#np.add()\n",
    "a = np.arange(9).reshape(3,3) \n",
    "print(a)\n",
    "b = np.array([10,20,30]) \n",
    "print(b)\n",
    "print(\"array after adding:\")\n",
    "print(np.add(a,b))\n",
    "\n",
    "#np.subtract()\n",
    "print(\"array after subtracting:\")\n",
    "print(np.subtract(b,a))\n",
    "\n",
    "#np.multiply()\n",
    "print(\"array after multiplying:\")\n",
    "print(np.multiply(a,b))\n"
   ]
  },
  {
   "cell_type": "code",
   "execution_count": 43,
   "metadata": {},
   "outputs": [
    {
     "name": "stdout",
     "output_type": "stream",
     "text": [
      "array after dividing:\n",
      "[[0.         0.05       0.06666667]\n",
      " [0.3        0.2        0.16666667]\n",
      " [0.6        0.35       0.26666667]]\n",
      "[  10  100 1000]\n",
      "array after applying power function\n",
      "[    100   10000 1000000]\n",
      "[10 20 30]\n",
      "[3 5 7]\n",
      "array after applying mod function:\n",
      "[1 0 2]\n"
     ]
    }
   ],
   "source": [
    "#np.divide()\n",
    "print(\"array after dividing:\")\n",
    "print(np.divide(a,b))\n",
    "\n",
    "\n",
    "#np.power()\n",
    "a = np.array([10,100,1000]) \n",
    "print(a) \n",
    "print('array after applying power function')\n",
    "print(np.power(a,2)) \n",
    "\n",
    "\n",
    "#np.mod()\n",
    "a = np.array([10,20,30]) \n",
    "b = np.array([3,5,7]) \n",
    "\n",
    "print(a) \n",
    "print(b) \n",
    "print('array after applying mod function:') \n",
    "print(np.mod(a,b)) \n"
   ]
  },
  {
   "cell_type": "markdown",
   "metadata": {},
   "source": [
    "### Statistical functions"
   ]
  },
  {
   "cell_type": "code",
   "execution_count": 44,
   "metadata": {},
   "outputs": [
    {
     "name": "stdout",
     "output_type": "stream",
     "text": [
      "[[3 7 5]\n",
      " [8 4 3]\n",
      " [2 4 9]]\n",
      "2\n",
      "amin() value along axis 1:\n",
      "[3 3 2]\n",
      "amin() value along axis 0:\n",
      "[2 4 3]\n"
     ]
    }
   ],
   "source": [
    "#np.amin()\n",
    "x = np.array([[3,7,5],[8,4,3],[2,4,9]]) \n",
    "print(x)\n",
    "print(np.amin(x))\n",
    "print('amin() value along axis 1:') \n",
    "print(np.amin(x,1)) \n",
    "print('amin() value along axis 0:') \n",
    "print(np.amin(x,0)) "
   ]
  },
  {
   "cell_type": "code",
   "execution_count": 45,
   "metadata": {},
   "outputs": [
    {
     "name": "stdout",
     "output_type": "stream",
     "text": [
      "value of amax():\n",
      "9\n",
      "amax() value along axis 0:\n",
      "[8 7 9]\n"
     ]
    }
   ],
   "source": [
    "#np.amax()  \n",
    "print('value of amax():') \n",
    "print(np.amax(x)) \n",
    "\n",
    "print('amax() value along axis 0:') \n",
    "print(np.amax(x, axis = 0))"
   ]
  },
  {
   "cell_type": "code",
   "execution_count": 46,
   "metadata": {},
   "outputs": [
    {
     "name": "stdout",
     "output_type": "stream",
     "text": [
      "ptp value:\n",
      "7\n"
     ]
    }
   ],
   "source": [
    "#np.ptp() ---> range [max - min]\n",
    "print('ptp value:')\n",
    "print(np.ptp(x))"
   ]
  },
  {
   "cell_type": "code",
   "execution_count": 47,
   "metadata": {},
   "outputs": [
    {
     "name": "stdout",
     "output_type": "stream",
     "text": [
      "percentile values\n",
      "4.0\n",
      "9.0\n"
     ]
    }
   ],
   "source": [
    "#np.percentile(array,p,axis)\n",
    "#p --> percentile value between 0 to 100\n",
    "print('percentile values')\n",
    "print(np.percentile(x,50)) #computes 50th percentile\n",
    "print(np.percentile(x,100)) #computes 100th percentile\n"
   ]
  },
  {
   "cell_type": "code",
   "execution_count": 49,
   "metadata": {},
   "outputs": [
    {
     "name": "stdout",
     "output_type": "stream",
     "text": [
      "mean values are:\n",
      "5.0\n",
      "[4.33333333 5.         5.66666667]\n",
      "[5. 5. 5.]\n",
      "median values are:\n",
      "4.0\n",
      "[3. 4. 5.]\n",
      "[5. 4. 4.]\n",
      "average values are:\n",
      "5.0\n",
      "[4.33333333 5.         5.66666667]\n",
      "[5. 5. 5.]\n",
      "std values are:\n",
      "2.309401076758503\n",
      "[2.62466929 1.41421356 2.49443826]\n",
      "[1.63299316 2.1602469  2.94392029]\n",
      "variance values are:\n",
      "5.333333333333333\n",
      "[6.88888889 2.         6.22222222]\n",
      "[2.66666667 4.66666667 8.66666667]\n"
     ]
    }
   ],
   "source": [
    "#np.mean()\n",
    "print('mean values are:')\n",
    "print(np.mean(x))\n",
    "print(np.mean(x,axis=0))\n",
    "print(np.mean(x,axis=1))\n",
    "\n",
    "#np.median()\n",
    "print('median values are:')\n",
    "print(np.median(x))\n",
    "print(np.median(x,axis=0))\n",
    "print(np.median(x,axis=1))\n",
    "\n",
    "#np.average()\n",
    "print('average values are:')\n",
    "print(np.average(x))\n",
    "print(np.average(x,axis=0))\n",
    "print(np.average(x,axis=1))\n",
    "\n",
    "#np.std()\n",
    "print('std values are:')\n",
    "print(np.std(x))\n",
    "print(np.std(x,axis=0))\n",
    "print(np.std(x,axis=1))\n",
    "\n",
    "#np.var()\n",
    "print('variance values are:')\n",
    "print(np.var(x))\n",
    "print(np.var(x,axis=0))\n",
    "print(np.var(x,axis=1))\n"
   ]
  },
  {
   "cell_type": "code",
   "execution_count": 50,
   "metadata": {},
   "outputs": [
    {
     "name": "stdout",
     "output_type": "stream",
     "text": [
      "[[3 7]\n",
      " [9 1]]\n",
      "after applying sort function:\n",
      "[[3 7]\n",
      " [1 9]]\n",
      "Sorting along axis 0:\n",
      "[[3 1]\n",
      " [9 7]]\n"
     ]
    }
   ],
   "source": [
    "#np.sort ---> returns sorted values of the input array\n",
    "#np.sort(array, axis, order)\n",
    "a = np.array([[3,7],[9,1]]) \n",
    "print(a) \n",
    "print('after applying sort function:') \n",
    "print(np.sort(a)) \n",
    "print('Sorting along axis 0:') \n",
    "print(np.sort(a, axis = 0))"
   ]
  },
  {
   "cell_type": "code",
   "execution_count": 51,
   "metadata": {},
   "outputs": [
    {
     "name": "stdout",
     "output_type": "stream",
     "text": [
      "[(b'Ram', 23) (b'Robert', 25) (b'Rahim', 27)]\n",
      "Order by name:\n",
      "[(b'Rahim', 27) (b'Ram', 23) (b'Robert', 25)]\n"
     ]
    }
   ],
   "source": [
    "# Order parameter in sort function \n",
    "dt = np.dtype([('name', 'S10'),('age', int)]) \n",
    "x = np.array([(\"Ram\",23),(\"Robert\",25),(\"Rahim\",27)], dtype = dt) \n",
    "print(x) \n",
    "print('Order by name:') \n",
    "print(np.sort(x, order = 'name'))"
   ]
  },
  {
   "cell_type": "code",
   "execution_count": 52,
   "metadata": {},
   "outputs": [
    {
     "name": "stdout",
     "output_type": "stream",
     "text": [
      "array b is:\n",
      "[[30 40  0]\n",
      " [ 0 20 10]\n",
      " [50  0 60]]\n",
      "after applying nonzero() function:\n",
      "(array([0, 0, 1, 1, 2, 2], dtype=int64), array([0, 1, 1, 2, 0, 2], dtype=int64))\n"
     ]
    }
   ],
   "source": [
    "#np.nonzero() ---> returns the indices of non-zero elements\n",
    "b = np.array([[30,40,0],[0,20,10],[50,0,60]]) \n",
    "print('array b is:')\n",
    "print(b)\n",
    "print('after applying nonzero() function:') \n",
    "print(np.nonzero(b))"
   ]
  },
  {
   "cell_type": "code",
   "execution_count": 53,
   "metadata": {},
   "outputs": [
    {
     "name": "stdout",
     "output_type": "stream",
     "text": [
      "[[ 0  1  2  3]\n",
      " [ 4  5  6  7]\n",
      " [ 8  9 10 11]]\n",
      "Indices of elements > 3\n",
      "(array([1, 1, 1, 1, 2, 2, 2, 2], dtype=int64), array([0, 1, 2, 3, 0, 1, 2, 3], dtype=int64))\n",
      "Use these indices to get elements satisfying the condition\n",
      "[ 4  5  6  7  8  9 10 11]\n",
      "[[0 1 2]\n",
      " [3 4 5]\n",
      " [6 7 8]]\n",
      "element-wise value of condition\n",
      "[[ True False  True]\n",
      " [False  True False]\n",
      " [ True False  True]]\n",
      "extract elements using condition\n",
      "[0 2 4 6 8]\n"
     ]
    }
   ],
   "source": [
    "#np.where() ---> returns the indices of elements when the condition is satisfied.\n",
    "x = np.arange(12).reshape(3,4) \n",
    "print(x)  \n",
    "print('Indices of elements > 3') \n",
    "y = np.where(x > 3) \n",
    "print(y)  \n",
    "\n",
    "print('Use these indices to get elements satisfying the condition') \n",
    "print(x[y])\n",
    "\n",
    "\n",
    "#np.extract() ---> returns the elements satisfying any condition.\n",
    "x = np.arange(9).reshape(3,3) \n",
    "print(x)  \n",
    "\n",
    "# define a condition \n",
    "condition = np.mod(x,2) == 0 \n",
    "\n",
    "print('element-wise value of condition') \n",
    "print(condition)  \n",
    "\n",
    "print('extract elements using condition') \n",
    "print(np.extract(condition, x))"
   ]
  },
  {
   "cell_type": "markdown",
   "metadata": {},
   "source": [
    "### Linear Algebra"
   ]
  },
  {
   "cell_type": "code",
   "execution_count": 55,
   "metadata": {},
   "outputs": [
    {
     "name": "stdout",
     "output_type": "stream",
     "text": [
      "dot product is:\n",
      "[[37 40]\n",
      " [85 92]]\n",
      "vector dot product is:\n",
      "130\n"
     ]
    }
   ],
   "source": [
    "#NumPy package contains numpy.linalg module that provides all the \n",
    "#functionality required for linear algebra.\n",
    "\n",
    "#dot()--- returns dot product of two arrays\n",
    "a = np.array([[1,2],[3,4]]) \n",
    "b = np.array([[11,12],[13,14]]) \n",
    "print('dot product is:')\n",
    "print(np.dot(a,b))\n",
    "\n",
    "\n",
    "##vdot() --- returns dot product of two vectors\n",
    "a = np.array([[1,2],[3,4]]) \n",
    "b = np.array([[11,12],[13,14]]) \n",
    "print('vector dot product is:')\n",
    "print(np.vdot(a,b))"
   ]
  },
  {
   "cell_type": "code",
   "execution_count": 56,
   "metadata": {},
   "outputs": [
    {
     "name": "stdout",
     "output_type": "stream",
     "text": [
      "[[1 2]\n",
      " [3 4]]\n",
      "[[11 12]\n",
      " [13 14]]\n",
      "inner product is:\n",
      "[[35 41]\n",
      " [81 95]]\n"
     ]
    }
   ],
   "source": [
    "##inner() ---- returns inner product of two arrays\n",
    "a = np.array([[1,2], [3,4]]) \n",
    "print(a) \n",
    "b = np.array([[11, 12], [13, 14]]) \n",
    "print(b)\n",
    "print('inner product is:')\n",
    "print(np.inner(a,b))"
   ]
  },
  {
   "cell_type": "code",
   "execution_count": 57,
   "metadata": {},
   "outputs": [
    {
     "name": "stdout",
     "output_type": "stream",
     "text": [
      "matrix product is:\n",
      "[[4 1]\n",
      " [2 2]]\n",
      "[1 2]\n",
      "[1 2]\n",
      "[[[ 2  3]\n",
      "  [ 6 11]]\n",
      "\n",
      " [[10 19]\n",
      "  [14 27]]]\n"
     ]
    }
   ],
   "source": [
    "##matmul() ---- returns matrix product of two arrays\n",
    "import numpy.matlib \n",
    "a = [[1,0],[0,1]] \n",
    "b = [[4,1],[2,2]] \n",
    "print('matrix product is:')\n",
    "print(np.matmul(a,b))\n",
    "\n",
    "a = [[1,0],[0,1]] \n",
    "b = [1,2] \n",
    "print(np.matmul(a,b)) \n",
    "print(np.matmul(b,a))\n",
    "\n",
    "a = np.arange(8).reshape(2,2,2) \n",
    "b = np.arange(4).reshape(2,2) \n",
    "print(np.matmul(a,b))\n"
   ]
  },
  {
   "cell_type": "code",
   "execution_count": 58,
   "metadata": {},
   "outputs": [
    {
     "name": "stdout",
     "output_type": "stream",
     "text": [
      "-2.0000000000000004\n",
      "-306.0\n",
      "[[1 2]\n",
      " [3 4]]\n",
      "[[-2.   1. ]\n",
      " [ 1.5 -0.5]]\n"
     ]
    }
   ],
   "source": [
    "\n",
    "##determinant() ---- computes the determinant of an array\n",
    "a = np.array([[1,2], [3,4]]) \n",
    "print(np.linalg.det(a))\n",
    "\n",
    "b = np.array([[6,1,1], [4, -2, 5], [2,8,7]]) \n",
    "print(np.linalg.det(b)) \n",
    "\n",
    "\n",
    "##inv() ---- finds the inverse of the matrix\n",
    "x = np.array([[1,2],[3,4]]) \n",
    "y = np.linalg.inv(x) \n",
    "print(x) \n",
    "print(y) "
   ]
  },
  {
   "cell_type": "code",
   "execution_count": 59,
   "metadata": {},
   "outputs": [
    {
     "name": "stdout",
     "output_type": "stream",
     "text": [
      "[[2.  1. ]\n",
      " [1.5 0.5]]\n",
      "[[0. 0.]\n",
      " [0. 0.]]\n",
      "[[1. 1.]\n",
      " [1. 1.]]\n",
      "[[1 0 0 0]\n",
      " [0 1 0 0]\n",
      " [0 0 1 0]]\n",
      "[[1 0 0 0 0]\n",
      " [0 1 0 0 0]\n",
      " [0 0 1 0 0]\n",
      " [0 0 0 1 0]\n",
      " [0 0 0 0 1]]\n",
      "[[0.27201696 0.43940998]\n",
      " [0.45829579 0.45652134]\n",
      " [0.00867043 0.33063545]]\n"
     ]
    }
   ],
   "source": [
    "# Matrix library\n",
    "#NumPy package contains a Matrix library numpy.matlib. \n",
    "#This module has functions that return matrices instead of ndarray objects.\n",
    "\n",
    "import numpy.matlib\n",
    "\n",
    "#np.matlib.empty(shape,dtype,order)\n",
    "print(np.matlib.empty((2,2)))\n",
    "\n",
    "\n",
    "#np.matlib.zeros()\n",
    "print(np.matlib.zeros((2,2))) \n",
    "\n",
    "\n",
    "#np.matlib.ones()\n",
    "print(np.matlib.ones((2,2))) \n",
    "\n",
    "\n",
    "#np.matlib.eye(n,M,k,dtype) --- returns a matrix with 1 along the diagonal elements and the zeros elsewhere.\n",
    "#n--rows,M--columns, k--index of diagonal element\n",
    "print(np.matlib.eye(n = 3, M = 4, k = 0, dtype = int))\n",
    "\n",
    "\n",
    "#np.matlib.identity()\n",
    "print(np.matlib.identity(5, dtype = int))\n",
    "\n",
    "\n",
    "#np.matlib.rand()\n",
    "print(np.matlib.rand(3,2))"
   ]
  },
  {
   "cell_type": "code",
   "execution_count": null,
   "metadata": {},
   "outputs": [],
   "source": []
  }
 ],
 "metadata": {
  "kernelspec": {
   "display_name": "Python 3",
   "language": "python",
   "name": "python3"
  },
  "language_info": {
   "codemirror_mode": {
    "name": "ipython",
    "version": 3
   },
   "file_extension": ".py",
   "mimetype": "text/x-python",
   "name": "python",
   "nbconvert_exporter": "python",
   "pygments_lexer": "ipython3",
   "version": "3.7.6"
  }
 },
 "nbformat": 4,
 "nbformat_minor": 2
}
