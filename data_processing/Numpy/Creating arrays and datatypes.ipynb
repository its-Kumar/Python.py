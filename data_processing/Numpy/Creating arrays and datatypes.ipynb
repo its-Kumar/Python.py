{
 "cells": [
  {
   "cell_type": "code",
   "execution_count": 2,
   "metadata": {},
   "outputs": [],
   "source": [
    "# importing the numpy library\n",
    "import numpy as np"
   ]
  },
  {
   "cell_type": "code",
   "execution_count": 3,
   "metadata": {},
   "outputs": [
    {
     "name": "stdout",
     "output_type": "stream",
     "text": [
      "[1 2 3 4 5 6]\n"
     ]
    }
   ],
   "source": [
    "# creating a rank 1 (one dimension) array:\n",
    "x = np.array([1,2,3,4,5,6])\n",
    "\n",
    "# displaying the array\n",
    "print(x)"
   ]
  },
  {
   "cell_type": "code",
   "execution_count": 4,
   "metadata": {},
   "outputs": [
    {
     "name": "stdout",
     "output_type": "stream",
     "text": [
      "int32\n"
     ]
    }
   ],
   "source": [
    "# checking the datatype\n",
    "print(x.dtype)"
   ]
  },
  {
   "cell_type": "code",
   "execution_count": 5,
   "metadata": {},
   "outputs": [
    {
     "data": {
      "text/plain": [
       "numpy.ndarray"
      ]
     },
     "execution_count": 5,
     "metadata": {},
     "output_type": "execute_result"
    }
   ],
   "source": [
    "type(x)"
   ]
  },
  {
   "cell_type": "code",
   "execution_count": 6,
   "metadata": {},
   "outputs": [
    {
     "data": {
      "text/plain": [
       "(6,)"
      ]
     },
     "execution_count": 6,
     "metadata": {},
     "output_type": "execute_result"
    }
   ],
   "source": [
    "# checking the shape of array object\n",
    "x.shape"
   ]
  },
  {
   "cell_type": "code",
   "execution_count": 7,
   "metadata": {},
   "outputs": [
    {
     "data": {
      "text/plain": [
       "6"
      ]
     },
     "execution_count": 7,
     "metadata": {},
     "output_type": "execute_result"
    }
   ],
   "source": [
    "# size of array\n",
    "x.size"
   ]
  },
  {
   "cell_type": "code",
   "execution_count": 9,
   "metadata": {},
   "outputs": [
    {
     "data": {
      "text/plain": [
       "1"
      ]
     },
     "execution_count": 9,
     "metadata": {},
     "output_type": "execute_result"
    }
   ],
   "source": [
    "# checking the number of dimensions\n",
    "x.ndim"
   ]
  },
  {
   "cell_type": "code",
   "execution_count": 10,
   "metadata": {},
   "outputs": [
    {
     "name": "stdout",
     "output_type": "stream",
     "text": [
      "1\n",
      "6\n",
      "2 4\n"
     ]
    }
   ],
   "source": [
    "# Indexing (accessing the array elements)\n",
    "print(x[0])\n",
    "print(x[-1])\n",
    "print(x[1],x[3])\n"
   ]
  },
  {
   "cell_type": "code",
   "execution_count": 15,
   "metadata": {},
   "outputs": [
    {
     "name": "stdout",
     "output_type": "stream",
     "text": [
      "[[1 2 3]\n",
      " [4 5 6]]\n",
      "\n",
      "[[4 5 6]\n",
      " [7 8 9]\n",
      " [0 2 3]]\n"
     ]
    }
   ],
   "source": [
    "# creating multi dimensional array\n",
    "y = np.array([(1,2,3), (4,5,6)])\n",
    "w = np.array([[4,5,6], [7,8,9], [0,2,3]])\n",
    "print(y, end='\\n\\n')\n",
    "print(w)"
   ]
  },
  {
   "cell_type": "code",
   "execution_count": 16,
   "metadata": {},
   "outputs": [
    {
     "name": "stdout",
     "output_type": "stream",
     "text": [
      "2\n",
      "2\n"
     ]
    }
   ],
   "source": [
    "print(y.ndim)\n",
    "print(w.ndim)"
   ]
  },
  {
   "cell_type": "code",
   "execution_count": 17,
   "metadata": {},
   "outputs": [
    {
     "name": "stdout",
     "output_type": "stream",
     "text": [
      "6\n",
      "9\n",
      "(2, 3)\n",
      "(3, 3)\n"
     ]
    }
   ],
   "source": [
    "# size\n",
    "print(y.size)\n",
    "print(w.size)\n",
    "\n",
    "# shape\n",
    "print(y.shape)\n",
    "print(w.shape)\n"
   ]
  },
  {
   "cell_type": "code",
   "execution_count": 18,
   "metadata": {},
   "outputs": [
    {
     "name": "stdout",
     "output_type": "stream",
     "text": [
      "[1 2 3]\n"
     ]
    }
   ],
   "source": [
    "# creating an array with different datatype\n",
    "\n",
    "# creating array of int datatype:\n",
    "a = np.array([1,2,3], dtype = int)\n",
    "print(a)\n"
   ]
  },
  {
   "cell_type": "code",
   "execution_count": 19,
   "metadata": {},
   "outputs": [
    {
     "name": "stdout",
     "output_type": "stream",
     "text": [
      "[1. 2. 3.]\n"
     ]
    }
   ],
   "source": [
    "# creating array of float datatype:\n",
    "b = np.array([1,2,3], dtype = float)\n",
    "print(b)\n"
   ]
  },
  {
   "cell_type": "code",
   "execution_count": 20,
   "metadata": {},
   "outputs": [
    {
     "name": "stdout",
     "output_type": "stream",
     "text": [
      "[1.+0.j 2.+0.j 3.+0.j]\n"
     ]
    }
   ],
   "source": [
    "# creating array of complex datatype:\n",
    "c = np.array([1,2,3], dtype = complex)\n",
    "print(c)\n"
   ]
  },
  {
   "cell_type": "code",
   "execution_count": null,
   "metadata": {},
   "outputs": [],
   "source": []
  },
  {
   "cell_type": "markdown",
   "metadata": {},
   "source": [
    "Even you have the functionality of creating a structured data type and\n",
    "apply it to a ndarray object. This type of data type is also called \n",
    "Structured data type.\n",
    "\n",
    "Let's see a use case below:"
   ]
  },
  {
   "cell_type": "code",
   "execution_count": 22,
   "metadata": {},
   "outputs": [
    {
     "name": "stdout",
     "output_type": "stream",
     "text": [
      "[('age', 'i1')]\n"
     ]
    }
   ],
   "source": [
    "# Creating a Structured data type:\n",
    "dt_1 = np.dtype([('age', np.int8)])\n",
    "print(dt_1)\n"
   ]
  },
  {
   "cell_type": "code",
   "execution_count": 23,
   "metadata": {},
   "outputs": [
    {
     "name": "stdout",
     "output_type": "stream",
     "text": [
      "[(25,) (28,) (30,)]\n"
     ]
    }
   ],
   "source": [
    "# applying above datatype to an ndarray object:\n",
    "a = np.array([(25,), (28,), (30,)], dtype = dt_1)\n",
    "print(a)\n"
   ]
  },
  {
   "cell_type": "code",
   "execution_count": 24,
   "metadata": {},
   "outputs": [
    {
     "name": "stdout",
     "output_type": "stream",
     "text": [
      "[25 28 30]\n"
     ]
    }
   ],
   "source": [
    "# accessing the values present in age column:\n",
    "print(a['age'])"
   ]
  },
  {
   "cell_type": "code",
   "execution_count": null,
   "metadata": {},
   "outputs": [],
   "source": []
  },
  {
   "cell_type": "code",
   "execution_count": 25,
   "metadata": {},
   "outputs": [
    {
     "name": "stdout",
     "output_type": "stream",
     "text": [
      "[['101' 'snigdha' '25' 'sambhal']\n",
      " ['102' 'sneha' '23' 'Meerut']\n",
      " ['103' 'Kousik' '26' 'Bangalore']\n",
      " ['104' 'Aravind' '27' 'Hyderabad']\n",
      " ['105' 'Kiran' '30' 'Chennai']\n",
      " ['106' 'Abdul' '30' 'Mumbai']]\n"
     ]
    }
   ],
   "source": [
    "# creating an array with user defined data type:\n",
    "\n",
    "#first create a user defined data type:\n",
    "emp = np.dtype([('eno', 'i4'), ('ename', 'S20'), ('age', 'i4'), ('loc', 'S20')])\n",
    "\n",
    "# applying the datatype to an array object:\n",
    "Employees = np.array([(101, 'snigdha', 25, 'sambhal'),\n",
    "                     (102, 'sneha', 23, 'Meerut'),\n",
    "                     (103, 'Kousik', 26, 'Bangalore'),\n",
    "                     (104, 'Aravind', 27, 'Hyderabad'),\n",
    "                     (105, 'Kiran', 30, 'Chennai'),\n",
    "                     (106, 'Abdul', 30, 'Mumbai')])\n",
    "\n",
    "# displaying the array:\n",
    "print(Employees)\n"
   ]
  },
  {
   "cell_type": "code",
   "execution_count": null,
   "metadata": {},
   "outputs": [],
   "source": [
    "Note: Each built-in data types has a unique single character code:\n",
    "        b ----> boolean\n",
    "        i ----> ineger\n",
    "        f ----> float\n",
    "        S ----> String\n",
    "        c ----> complex \n",
    "        M ----> datetime"
   ]
  }
 ],
 "metadata": {
  "kernelspec": {
   "display_name": "Python 3",
   "language": "python",
   "name": "python3"
  },
  "language_info": {
   "codemirror_mode": {
    "name": "ipython",
    "version": 3
   },
   "file_extension": ".py",
   "mimetype": "text/x-python",
   "name": "python",
   "nbconvert_exporter": "python",
   "pygments_lexer": "ipython3",
   "version": "3.7.6"
  }
 },
 "nbformat": 4,
 "nbformat_minor": 2
}
