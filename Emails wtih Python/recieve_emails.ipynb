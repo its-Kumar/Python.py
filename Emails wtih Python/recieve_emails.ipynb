{
 "metadata": {
  "language_info": {
   "codemirror_mode": {
    "name": "ipython",
    "version": 3
   },
   "file_extension": ".py",
   "mimetype": "text/x-python",
   "name": "python",
   "nbconvert_exporter": "python",
   "pygments_lexer": "ipython3",
   "version": 3
  },
  "orig_nbformat": 2,
  "kernelspec": {
   "name": "python_defaultSpec_1596181932323",
   "display_name": "Python 3.7.4 64-bit ('Learning': conda)"
  }
 },
 "nbformat": 4,
 "nbformat_minor": 2,
 "cells": [
  {
   "cell_type": "markdown",
   "metadata": {},
   "source": [
    "# Read Emails"
   ]
  },
  {
   "cell_type": "code",
   "execution_count": 1,
   "metadata": {},
   "outputs": [],
   "source": [
    "import imaplib\n",
    "M = imaplib.IMAP4_SSL('imap.gmail.com')"
   ]
  },
  {
   "cell_type": "code",
   "execution_count": 2,
   "metadata": {},
   "outputs": [
    {
     "output_type": "execute_result",
     "data": {
      "text/plain": "('OK', [b'kumarshanu1009@gmail.com authenticated (Success)'])"
     },
     "metadata": {},
     "execution_count": 2
    }
   ],
   "source": [
    "import getpass\n",
    "\n",
    "email = getpass.getpass(\"Email: \")\n",
    "password = getpass.getpass(\"Password please: \")\n",
    "M.login(email, password)"
   ]
  },
  {
   "cell_type": "code",
   "execution_count": 3,
   "metadata": {},
   "outputs": [
    {
     "output_type": "execute_result",
     "data": {
      "text/plain": "('OK',\n [b'(\\\\HasNoChildren) \"/\" \"INBOX\"',\n  b'(\\\\HasChildren \\\\Noselect) \"/\" \"[Gmail]\"',\n  b'(\\\\All \\\\HasNoChildren) \"/\" \"[Gmail]/All Mail\"',\n  b'(\\\\HasNoChildren \\\\Trash) \"/\" \"[Gmail]/Bin\"',\n  b'(\\\\Drafts \\\\HasNoChildren) \"/\" \"[Gmail]/Drafts\"',\n  b'(\\\\HasNoChildren \\\\Important) \"/\" \"[Gmail]/Important\"',\n  b'(\\\\HasNoChildren \\\\Sent) \"/\" \"[Gmail]/Sent Mail\"',\n  b'(\\\\HasNoChildren \\\\Junk) \"/\" \"[Gmail]/Spam\"',\n  b'(\\\\Flagged \\\\HasNoChildren) \"/\" \"[Gmail]/Starred\"'])"
     },
     "metadata": {},
     "execution_count": 3
    }
   ],
   "source": [
    "M.list()"
   ]
  },
  {
   "cell_type": "code",
   "execution_count": 4,
   "metadata": {},
   "outputs": [
    {
     "output_type": "execute_result",
     "data": {
      "text/plain": "('OK', [b'2387'])"
     },
     "metadata": {},
     "execution_count": 4
    }
   ],
   "source": [
    "M.select('inbox')"
   ]
  },
  {
   "cell_type": "code",
   "execution_count": 15,
   "metadata": {},
   "outputs": [],
   "source": [
    "search_str = input()\n",
    "typ, data = M.search(None, search_str)"
   ]
  },
  {
   "cell_type": "code",
   "execution_count": 16,
   "metadata": {},
   "outputs": [
    {
     "output_type": "execute_result",
     "data": {
      "text/plain": "'OK'"
     },
     "metadata": {},
     "execution_count": 16
    }
   ],
   "source": [
    "typ"
   ]
  },
  {
   "cell_type": "code",
   "execution_count": 17,
   "metadata": {},
   "outputs": [
    {
     "output_type": "execute_result",
     "data": {
      "text/plain": "[b'2387']"
     },
     "metadata": {},
     "execution_count": 17
    }
   ],
   "source": [
    "data"
   ]
  },
  {
   "cell_type": "code",
   "execution_count": 18,
   "metadata": {},
   "outputs": [],
   "source": [
    "email_id = data[0]\n",
    "result, email_data = M.fetch(email_id, '(RFC822)')"
   ]
  },
  {
   "cell_type": "code",
   "execution_count": 19,
   "metadata": {},
   "outputs": [
    {
     "output_type": "execute_result",
     "data": {
      "text/plain": "'OK'"
     },
     "metadata": {},
     "execution_count": 19
    }
   ],
   "source": [
    "result"
   ]
  },
  {
   "cell_type": "code",
   "execution_count": 20,
   "metadata": {},
   "outputs": [
    {
     "output_type": "execute_result",
     "data": {
      "text/plain": "[(b'2387 (RFC822 {528}',\n  b'Bcc: kumarshanu1009@gmail.com\\r\\nReturn-Path: <kumarshanu1009@gmail.com>\\r\\nReceived: from [127.0.0.1] ([117.96.41.56])\\r\\n        by smtp.gmail.com with ESMTPSA id u2sm8074782pjg.35.2020.07.31.00.46.59\\r\\n        for <kumarshanu1009@gmail.com>\\r\\n        (version=TLS1_3 cipher=TLS_AES_256_GCM_SHA384 bits=256/256);\\r\\n        Fri, 31 Jul 2020 00:47:01 -0700 (PDT)\\r\\nMessage-ID: <5f23cc75.1c69fb81.7dd32.5558@mx.google.com>\\r\\nDate: Fri, 31 Jul 2020 00:47:01 -0700 (PDT)\\r\\nFrom: kumarshanu1009@gmail.com\\r\\nSubject: new test python\\r\\n\\r\\nhello ji\\r\\n'),\n b')']"
     },
     "metadata": {},
     "execution_count": 20
    }
   ],
   "source": [
    "email_data"
   ]
  },
  {
   "cell_type": "code",
   "execution_count": 21,
   "metadata": {},
   "outputs": [],
   "source": [
    "raw_email = email_data[0][1]\n",
    "raw_email_string = raw_email.decode('utf-8')"
   ]
  },
  {
   "cell_type": "code",
   "execution_count": 22,
   "metadata": {},
   "outputs": [],
   "source": [
    "import email\n",
    "email_message = email.message_from_string(raw_email_string)"
   ]
  },
  {
   "cell_type": "code",
   "execution_count": 23,
   "metadata": {
    "tags": []
   },
   "outputs": [
    {
     "output_type": "stream",
     "name": "stdout",
     "text": "b'hello ji\\r\\n'\n"
    }
   ],
   "source": [
    "for part in email_message.walk():\n",
    "\n",
    "    if part.get_content_type() == \"text/plain\":\n",
    "        body = part.get_payload(decode=True)\n",
    "        print(body)"
   ]
  },
  {
   "cell_type": "code",
   "execution_count": null,
   "metadata": {},
   "outputs": [],
   "source": []
  }
 ]
}