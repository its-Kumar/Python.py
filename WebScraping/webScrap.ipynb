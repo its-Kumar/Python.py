{
 "cells": [
  {
   "cell_type": "markdown",
   "metadata": {},
   "source": [
    "# Web Scraping"
   ]
  },
  {
   "cell_type": "markdown",
   "metadata": {},
   "source": [
    "## installing libraries"
   ]
  },
  {
   "cell_type": "code",
   "execution_count": 2,
   "metadata": {},
   "outputs": [
    {
     "output_type": "stream",
     "name": "stdout",
     "text": "Requirement already satisfied: requests in /home/its-k/anaconda3/envs/Learning/lib/python3.7/site-packages (2.22.0)\nRequirement already satisfied: urllib3!=1.25.0,!=1.25.1,<1.26,>=1.21.1 in /home/its-k/anaconda3/envs/Learning/lib/python3.7/site-packages (from requests) (1.24.2)\nRequirement already satisfied: idna<2.9,>=2.5 in /home/its-k/anaconda3/envs/Learning/lib/python3.7/site-packages (from requests) (2.8)\nRequirement already satisfied: certifi>=2017.4.17 in /home/its-k/anaconda3/envs/Learning/lib/python3.7/site-packages (from requests) (2019.9.11)\nRequirement already satisfied: chardet<3.1.0,>=3.0.2 in /home/its-k/anaconda3/envs/Learning/lib/python3.7/site-packages (from requests) (3.0.4)\nRequirement already satisfied: lxml in /home/its-k/anaconda3/envs/Learning/lib/python3.7/site-packages (4.4.1)\nRequirement already satisfied: bs4 in /home/its-k/anaconda3/envs/Learning/lib/python3.7/site-packages (0.0.1)\nRequirement already satisfied: beautifulsoup4 in /home/its-k/anaconda3/envs/Learning/lib/python3.7/site-packages (from bs4) (4.8.0)\nRequirement already satisfied: soupsieve>=1.2 in /home/its-k/anaconda3/envs/Learning/lib/python3.7/site-packages (from beautifulsoup4->bs4) (1.9.3)\n"
    }
   ],
   "source": [
    "!pip install requests\n",
    "!pip install lxml\n",
    "!pip install bs4"
   ]
  },
  {
   "cell_type": "markdown",
   "metadata": {},
   "source": [
    "## Make a request to website"
   ]
  },
  {
   "cell_type": "code",
   "execution_count": 3,
   "metadata": {},
   "outputs": [],
   "source": [
    "import requests"
   ]
  },
  {
   "cell_type": "code",
   "execution_count": 4,
   "metadata": {},
   "outputs": [
    {
     "output_type": "execute_result",
     "data": {
      "text/plain": "<Response [200]>"
     },
     "metadata": {},
     "execution_count": 4
    }
   ],
   "source": [
    "result = requests.get(\"http://www.example.com\")\n",
    "result"
   ]
  },
  {
   "cell_type": "code",
   "execution_count": 5,
   "metadata": {},
   "outputs": [
    {
     "output_type": "execute_result",
     "data": {
      "text/plain": "requests.models.Response"
     },
     "metadata": {},
     "execution_count": 5
    }
   ],
   "source": [
    "type(result)"
   ]
  },
  {
   "cell_type": "code",
   "execution_count": 6,
   "metadata": {},
   "outputs": [
    {
     "output_type": "execute_result",
     "data": {
      "text/plain": "'<!doctype html>\\n<html>\\n<head>\\n    <title>Example Domain</title>\\n\\n    <meta charset=\"utf-8\" />\\n    <meta http-equiv=\"Content-type\" content=\"text/html; charset=utf-8\" />\\n    <meta name=\"viewport\" content=\"width=device-width, initial-scale=1\" />\\n    <style type=\"text/css\">\\n    body {\\n        background-color: #f0f0f2;\\n        margin: 0;\\n        padding: 0;\\n        font-family: -apple-system, system-ui, BlinkMacSystemFont, \"Segoe UI\", \"Open Sans\", \"Helvetica Neue\", Helvetica, Arial, sans-serif;\\n        \\n    }\\n    div {\\n        width: 600px;\\n        margin: 5em auto;\\n        padding: 2em;\\n        background-color: #fdfdff;\\n        border-radius: 0.5em;\\n        box-shadow: 2px 3px 7px 2px rgba(0,0,0,0.02);\\n    }\\n    a:link, a:visited {\\n        color: #38488f;\\n        text-decoration: none;\\n    }\\n    @media (max-width: 700px) {\\n        div {\\n            margin: 0 auto;\\n            width: auto;\\n        }\\n    }\\n    </style>    \\n</head>\\n\\n<body>\\n<div>\\n    <h1>Example Domain</h1>\\n    <p>This domain is for use in illustrative examples in documents. You may use this\\n    domain in literature without prior coordination or asking for permission.</p>\\n    <p><a href=\"https://www.iana.org/domains/example\">More information...</a></p>\\n</div>\\n</body>\\n</html>\\n'"
     },
     "metadata": {},
     "execution_count": 6
    }
   ],
   "source": [
    "result.text"
   ]
  },
  {
   "cell_type": "markdown",
   "metadata": {},
   "source": [
    "## Making The Soup"
   ]
  },
  {
   "cell_type": "code",
   "execution_count": 7,
   "metadata": {},
   "outputs": [],
   "source": [
    "import bs4"
   ]
  },
  {
   "cell_type": "code",
   "execution_count": 8,
   "metadata": {},
   "outputs": [
    {
     "output_type": "execute_result",
     "data": {
      "text/plain": "<!DOCTYPE html>\n<html>\n<head>\n<title>Example Domain</title>\n<meta charset=\"utf-8\"/>\n<meta content=\"text/html; charset=utf-8\" http-equiv=\"Content-type\"/>\n<meta content=\"width=device-width, initial-scale=1\" name=\"viewport\"/>\n<style type=\"text/css\">\n    body {\n        background-color: #f0f0f2;\n        margin: 0;\n        padding: 0;\n        font-family: -apple-system, system-ui, BlinkMacSystemFont, \"Segoe UI\", \"Open Sans\", \"Helvetica Neue\", Helvetica, Arial, sans-serif;\n        \n    }\n    div {\n        width: 600px;\n        margin: 5em auto;\n        padding: 2em;\n        background-color: #fdfdff;\n        border-radius: 0.5em;\n        box-shadow: 2px 3px 7px 2px rgba(0,0,0,0.02);\n    }\n    a:link, a:visited {\n        color: #38488f;\n        text-decoration: none;\n    }\n    @media (max-width: 700px) {\n        div {\n            margin: 0 auto;\n            width: auto;\n        }\n    }\n    </style>\n</head>\n<body>\n<div>\n<h1>Example Domain</h1>\n<p>This domain is for use in illustrative examples in documents. You may use this\n    domain in literature without prior coordination or asking for permission.</p>\n<p><a href=\"https://www.iana.org/domains/example\">More information...</a></p>\n</div>\n</body>\n</html>"
     },
     "metadata": {},
     "execution_count": 8
    }
   ],
   "source": [
    "soup = bs4.BeautifulSoup(result.text,\"lxml\")\n",
    "soup"
   ]
  },
  {
   "cell_type": "markdown",
   "metadata": {},
   "source": [
    "## Select items by HTML Tags"
   ]
  },
  {
   "cell_type": "code",
   "execution_count": 9,
   "metadata": {},
   "outputs": [
    {
     "output_type": "execute_result",
     "data": {
      "text/plain": "[<title>Example Domain</title>]"
     },
     "metadata": {},
     "execution_count": 9
    }
   ],
   "source": [
    "soup.select('title')"
   ]
  },
  {
   "cell_type": "code",
   "execution_count": 10,
   "metadata": {},
   "outputs": [
    {
     "output_type": "execute_result",
     "data": {
      "text/plain": "'Example Domain'"
     },
     "metadata": {},
     "execution_count": 10
    }
   ],
   "source": [
    "soup.select('title')[0].getText()"
   ]
  },
  {
   "cell_type": "code",
   "execution_count": 11,
   "metadata": {},
   "outputs": [
    {
     "output_type": "execute_result",
     "data": {
      "text/plain": "[<p>This domain is for use in illustrative examples in documents. You may use this\n     domain in literature without prior coordination or asking for permission.</p>,\n <p><a href=\"https://www.iana.org/domains/example\">More information...</a></p>]"
     },
     "metadata": {},
     "execution_count": 11
    }
   ],
   "source": [
    "site_paragraphs = soup.select('p')\n",
    "site_paragraphs"
   ]
  },
  {
   "cell_type": "markdown",
   "metadata": {},
   "source": [
    "## Grab List from WIKIPEDIA"
   ]
  },
  {
   "cell_type": "code",
   "execution_count": 12,
   "metadata": {},
   "outputs": [],
   "source": [
    "res = requests.get('https://en.wikipedia.org/wiki/Charles_Babbage')"
   ]
  },
  {
   "cell_type": "code",
   "execution_count": 14,
   "metadata": {},
   "outputs": [],
   "source": [
    "soup = bs4.BeautifulSoup(res.text, 'lxml')"
   ]
  },
  {
   "cell_type": "code",
   "execution_count": 15,
   "metadata": {},
   "outputs": [
    {
     "output_type": "execute_result",
     "data": {
      "text/plain": "[<span class=\"toctext\">Early life</span>,\n <span class=\"toctext\">At the University of Cambridge</span>,\n <span class=\"toctext\">After Cambridge</span>,\n <span class=\"toctext\">Royal Astronomical Society</span>,\n <span class=\"toctext\">British Lagrangian School</span>,\n <span class=\"toctext\">Academic</span>,\n <span class=\"toctext\">\"Declinarians\", learned societies and the BAAS</span>,\n <span class=\"toctext\"><i>On the Economy of Machinery and Manufactures</i></span>,\n <span class=\"toctext\">\"Babbage principle\"</span>,\n <span class=\"toctext\">Publishing</span>,\n <span class=\"toctext\">Influence</span>,\n <span class=\"toctext\">Natural theology</span>,\n <span class=\"toctext\">Religious views</span>,\n <span class=\"toctext\">Later life</span>,\n <span class=\"toctext\">Metrology programme</span>,\n <span class=\"toctext\">Engineer and inventor</span>,\n <span class=\"toctext\">Cryptography</span>,\n <span class=\"toctext\">Public nuisances</span>,\n <span class=\"toctext\">Computing pioneer</span>,\n <span class=\"toctext\">Background on mathematical tables</span>,\n <span class=\"toctext\">Difference engine</span>,\n <span class=\"toctext\">Completed models</span>,\n <span class=\"toctext\">Analytical Engine</span>,\n <span class=\"toctext\">Ada Lovelace and Italian followers</span>,\n <span class=\"toctext\">Swedish followers</span>,\n <span class=\"toctext\">Legacy</span>,\n <span class=\"toctext\">Family</span>,\n <span class=\"toctext\">Death</span>,\n <span class=\"toctext\">Autopsy report</span>,\n <span class=\"toctext\">Memorials</span>,\n <span class=\"toctext\">In fiction and film</span>,\n <span class=\"toctext\">Publications</span>,\n <span class=\"toctext\">See also</span>,\n <span class=\"toctext\">Notes</span>,\n <span class=\"toctext\">References</span>,\n <span class=\"toctext\">External links</span>]"
     },
     "metadata": {},
     "execution_count": 15
    }
   ],
   "source": [
    "# soup\n",
    "soup.select('.toctext')"
   ]
  },
  {
   "cell_type": "code",
   "execution_count": 17,
   "metadata": {},
   "outputs": [
    {
     "output_type": "execute_result",
     "data": {
      "text/plain": "bs4.element.Tag"
     },
     "metadata": {},
     "execution_count": 17
    }
   ],
   "source": [
    "type(soup.select('.toctext')[0])"
   ]
  },
  {
   "cell_type": "code",
   "execution_count": 21,
   "metadata": {},
   "outputs": [
    {
     "output_type": "execute_result",
     "data": {
      "text/plain": "'Early life'"
     },
     "metadata": {},
     "execution_count": 21
    }
   ],
   "source": [
    "fist_item = soup.select('.toctext')[0]\n",
    "fist_item.text"
   ]
  },
  {
   "cell_type": "code",
   "execution_count": 19,
   "metadata": {},
   "outputs": [
    {
     "output_type": "stream",
     "name": "stdout",
     "text": "Early life\nAt the University of Cambridge\nAfter Cambridge\nRoyal Astronomical Society\nBritish Lagrangian School\nAcademic\n\"Declinarians\", learned societies and the BAAS\nOn the Economy of Machinery and Manufactures\n\"Babbage principle\"\nPublishing\nInfluence\nNatural theology\nReligious views\nLater life\nMetrology programme\nEngineer and inventor\nCryptography\nPublic nuisances\nComputing pioneer\nBackground on mathematical tables\nDifference engine\nCompleted models\nAnalytical Engine\nAda Lovelace and Italian followers\nSwedish followers\nLegacy\nFamily\nDeath\nAutopsy report\nMemorials\nIn fiction and film\nPublications\nSee also\nNotes\nReferences\nExternal links\n"
    }
   ],
   "source": [
    "for item in soup.select('.toctext'):\n",
    "    print(item.text)"
   ]
  },
  {
   "cell_type": "markdown",
   "metadata": {},
   "source": [
    "## Grab Images from WIKIPEDIA"
   ]
  },
  {
   "cell_type": "code",
   "execution_count": 23,
   "metadata": {},
   "outputs": [],
   "source": [
    "soup = bs4.BeautifulSoup(res.text, 'lxml')"
   ]
  },
  {
   "cell_type": "code",
   "execution_count": 25,
   "metadata": {},
   "outputs": [
    {
     "output_type": "execute_result",
     "data": {
      "text/plain": "<img alt=\"Page protected with pending changes\" data-file-height=\"512\" data-file-width=\"512\" decoding=\"async\" height=\"20\" src=\"//upload.wikimedia.org/wikipedia/en/thumb/b/b7/Pending-protection-shackle.svg/20px-Pending-protection-shackle.svg.png\" srcset=\"//upload.wikimedia.org/wikipedia/en/thumb/b/b7/Pending-protection-shackle.svg/30px-Pending-protection-shackle.svg.png 1.5x, //upload.wikimedia.org/wikipedia/en/thumb/b/b7/Pending-protection-shackle.svg/40px-Pending-protection-shackle.svg.png 2x\" width=\"20\"/>"
     },
     "metadata": {},
     "execution_count": 25
    }
   ],
   "source": [
    "soup.select('img')[0]"
   ]
  },
  {
   "cell_type": "code",
   "execution_count": 26,
   "metadata": {},
   "outputs": [
    {
     "output_type": "execute_result",
     "data": {
      "text/plain": "[<img alt=\"\" class=\"thumbimage\" data-file-height=\"1455\" data-file-width=\"1028\" decoding=\"async\" height=\"311\" src=\"//upload.wikimedia.org/wikipedia/commons/thumb/3/37/Portrait_of_Charles_Babbage_%284672397%29.jpg/220px-Portrait_of_Charles_Babbage_%284672397%29.jpg\" srcset=\"//upload.wikimedia.org/wikipedia/commons/thumb/3/37/Portrait_of_Charles_Babbage_%284672397%29.jpg/330px-Portrait_of_Charles_Babbage_%284672397%29.jpg 1.5x, //upload.wikimedia.org/wikipedia/commons/thumb/3/37/Portrait_of_Charles_Babbage_%284672397%29.jpg/440px-Portrait_of_Charles_Babbage_%284672397%29.jpg 2x\" width=\"220\"/>,\n <img alt=\"\" class=\"thumbimage\" data-file-height=\"631\" data-file-width=\"451\" decoding=\"async\" height=\"308\" src=\"//upload.wikimedia.org/wikipedia/commons/thumb/4/44/Charles_Babbage_by_Antoine_Claudet_c1847-51-crop.jpg/220px-Charles_Babbage_by_Antoine_Claudet_c1847-51-crop.jpg\" srcset=\"//upload.wikimedia.org/wikipedia/commons/thumb/4/44/Charles_Babbage_by_Antoine_Claudet_c1847-51-crop.jpg/330px-Charles_Babbage_by_Antoine_Claudet_c1847-51-crop.jpg 1.5x, //upload.wikimedia.org/wikipedia/commons/thumb/4/44/Charles_Babbage_by_Antoine_Claudet_c1847-51-crop.jpg/440px-Charles_Babbage_by_Antoine_Claudet_c1847-51-crop.jpg 2x\" width=\"220\"/>,\n <img alt=\"\" class=\"thumbimage\" data-file-height=\"725\" data-file-width=\"549\" decoding=\"async\" height=\"291\" src=\"//upload.wikimedia.org/wikipedia/commons/thumb/9/9e/Difference_engine_plate_1853.jpg/220px-Difference_engine_plate_1853.jpg\" srcset=\"//upload.wikimedia.org/wikipedia/commons/thumb/9/9e/Difference_engine_plate_1853.jpg/330px-Difference_engine_plate_1853.jpg 1.5x, //upload.wikimedia.org/wikipedia/commons/thumb/9/9e/Difference_engine_plate_1853.jpg/440px-Difference_engine_plate_1853.jpg 2x\" width=\"220\"/>,\n <img alt=\"\" class=\"thumbimage\" data-file-height=\"4436\" data-file-width=\"3796\" decoding=\"async\" height=\"257\" src=\"//upload.wikimedia.org/wikipedia/commons/thumb/9/95/Babbage_-_Letter_to_sir_Humphry_Davy_on_the_application_of_machinery_to_the_purpose_of_calculating_and_printing_mathematical_tables%2C_1822_-_721620.tif/lossy-page1-220px-Babbage_-_Letter_to_sir_Humphry_Davy_on_the_application_of_machinery_to_the_purpose_of_calculating_and_printing_mathematical_tables%2C_1822_-_721620.tif.jpg\" srcset=\"//upload.wikimedia.org/wikipedia/commons/thumb/9/95/Babbage_-_Letter_to_sir_Humphry_Davy_on_the_application_of_machinery_to_the_purpose_of_calculating_and_printing_mathematical_tables%2C_1822_-_721620.tif/lossy-page1-330px-Babbage_-_Letter_to_sir_Humphry_Davy_on_the_application_of_machinery_to_the_purpose_of_calculating_and_printing_mathematical_tables%2C_1822_-_721620.tif.jpg 1.5x, //upload.wikimedia.org/wikipedia/commons/thumb/9/95/Babbage_-_Letter_to_sir_Humphry_Davy_on_the_application_of_machinery_to_the_purpose_of_calculating_and_printing_mathematical_tables%2C_1822_-_721620.tif/lossy-page1-440px-Babbage_-_Letter_to_sir_Humphry_Davy_on_the_application_of_machinery_to_the_purpose_of_calculating_and_printing_mathematical_tables%2C_1822_-_721620.tif.jpg 2x\" width=\"220\"/>,\n <img alt=\"\" class=\"thumbimage\" data-file-height=\"2522\" data-file-width=\"1371\" decoding=\"async\" height=\"405\" src=\"//upload.wikimedia.org/wikipedia/commons/thumb/4/46/Babbage_-_On_the_economy_of_machinery_and_manufactures%2C_1835_-_5864499.tif/lossy-page1-220px-Babbage_-_On_the_economy_of_machinery_and_manufactures%2C_1835_-_5864499.tif.jpg\" srcset=\"//upload.wikimedia.org/wikipedia/commons/thumb/4/46/Babbage_-_On_the_economy_of_machinery_and_manufactures%2C_1835_-_5864499.tif/lossy-page1-330px-Babbage_-_On_the_economy_of_machinery_and_manufactures%2C_1835_-_5864499.tif.jpg 1.5x, //upload.wikimedia.org/wikipedia/commons/thumb/4/46/Babbage_-_On_the_economy_of_machinery_and_manufactures%2C_1835_-_5864499.tif/lossy-page1-440px-Babbage_-_On_the_economy_of_machinery_and_manufactures%2C_1835_-_5864499.tif.jpg 2x\" width=\"220\"/>,\n <img alt=\"\" class=\"thumbimage\" data-file-height=\"451\" data-file-width=\"384\" decoding=\"async\" height=\"258\" src=\"//upload.wikimedia.org/wikipedia/commons/thumb/1/1e/Babbage_sign_language.jpg/220px-Babbage_sign_language.jpg\" srcset=\"//upload.wikimedia.org/wikipedia/commons/thumb/1/1e/Babbage_sign_language.jpg/330px-Babbage_sign_language.jpg 1.5x, //upload.wikimedia.org/wikipedia/commons/1/1e/Babbage_sign_language.jpg 2x\" width=\"220\"/>,\n <img alt=\"\" class=\"thumbimage\" data-file-height=\"389\" data-file-width=\"431\" decoding=\"async\" height=\"199\" src=\"//upload.wikimedia.org/wikipedia/commons/thumb/5/51/Babbage_curve_singular_points.png/220px-Babbage_curve_singular_points.png\" srcset=\"//upload.wikimedia.org/wikipedia/commons/thumb/5/51/Babbage_curve_singular_points.png/330px-Babbage_curve_singular_points.png 1.5x, //upload.wikimedia.org/wikipedia/commons/5/51/Babbage_curve_singular_points.png 2x\" width=\"220\"/>,\n <img alt=\"\" class=\"thumbimage\" data-file-height=\"1259\" data-file-width=\"1062\" decoding=\"async\" height=\"261\" src=\"//upload.wikimedia.org/wikipedia/commons/thumb/d/d2/Charles_Babbage_1860.jpg/220px-Charles_Babbage_1860.jpg\" srcset=\"//upload.wikimedia.org/wikipedia/commons/thumb/d/d2/Charles_Babbage_1860.jpg/330px-Charles_Babbage_1860.jpg 1.5x, //upload.wikimedia.org/wikipedia/commons/thumb/d/d2/Charles_Babbage_1860.jpg/440px-Charles_Babbage_1860.jpg 2x\" width=\"220\"/>,\n <img alt=\"\" class=\"thumbimage\" data-file-height=\"589\" data-file-width=\"800\" decoding=\"async\" height=\"162\" src=\"//upload.wikimedia.org/wikipedia/commons/thumb/5/53/BabbageDifferenceEngine.jpg/220px-BabbageDifferenceEngine.jpg\" srcset=\"//upload.wikimedia.org/wikipedia/commons/thumb/5/53/BabbageDifferenceEngine.jpg/330px-BabbageDifferenceEngine.jpg 1.5x, //upload.wikimedia.org/wikipedia/commons/thumb/5/53/BabbageDifferenceEngine.jpg/440px-BabbageDifferenceEngine.jpg 2x\" width=\"220\"/>,\n <img alt=\"\" class=\"thumbimage\" data-file-height=\"2535\" data-file-width=\"3503\" decoding=\"async\" height=\"159\" src=\"//upload.wikimedia.org/wikipedia/commons/thumb/8/8b/Babbage_Difference_Engine.jpg/220px-Babbage_Difference_Engine.jpg\" srcset=\"//upload.wikimedia.org/wikipedia/commons/thumb/8/8b/Babbage_Difference_Engine.jpg/330px-Babbage_Difference_Engine.jpg 1.5x, //upload.wikimedia.org/wikipedia/commons/thumb/8/8b/Babbage_Difference_Engine.jpg/440px-Babbage_Difference_Engine.jpg 2x\" width=\"220\"/>,\n <img alt=\"\" class=\"thumbimage\" data-file-height=\"413\" data-file-width=\"654\" decoding=\"async\" height=\"139\" src=\"//upload.wikimedia.org/wikipedia/commons/thumb/d/d0/Opening_George_III_museum.jpg/220px-Opening_George_III_museum.jpg\" srcset=\"//upload.wikimedia.org/wikipedia/commons/thumb/d/d0/Opening_George_III_museum.jpg/330px-Opening_George_III_museum.jpg 1.5x, //upload.wikimedia.org/wikipedia/commons/thumb/d/d0/Opening_George_III_museum.jpg/440px-Opening_George_III_museum.jpg 2x\" width=\"220\"/>,\n <img alt=\"A granite, horizontal, geometrically elaborate gravestone surrounded by other headstones\" class=\"thumbimage\" data-file-height=\"2600\" data-file-width=\"3350\" decoding=\"async\" height=\"171\" src=\"//upload.wikimedia.org/wikipedia/commons/thumb/b/bf/Charles_Babbage_grave_Kensal_Green_2014.jpg/220px-Charles_Babbage_grave_Kensal_Green_2014.jpg\" srcset=\"//upload.wikimedia.org/wikipedia/commons/thumb/b/bf/Charles_Babbage_grave_Kensal_Green_2014.jpg/330px-Charles_Babbage_grave_Kensal_Green_2014.jpg 1.5x, //upload.wikimedia.org/wikipedia/commons/thumb/b/bf/Charles_Babbage_grave_Kensal_Green_2014.jpg/440px-Charles_Babbage_grave_Kensal_Green_2014.jpg 2x\" width=\"220\"/>,\n <img alt=\"\" class=\"thumbimage\" data-file-height=\"4018\" data-file-width=\"2678\" decoding=\"async\" height=\"330\" src=\"//upload.wikimedia.org/wikipedia/commons/thumb/a/a4/Babbages_Brain.jpg/220px-Babbages_Brain.jpg\" srcset=\"//upload.wikimedia.org/wikipedia/commons/thumb/a/a4/Babbages_Brain.jpg/330px-Babbages_Brain.jpg 1.5x, //upload.wikimedia.org/wikipedia/commons/thumb/a/a4/Babbages_Brain.jpg/440px-Babbages_Brain.jpg 2x\" width=\"220\"/>,\n <img alt=\"\" class=\"thumbimage\" data-file-height=\"1411\" data-file-width=\"1406\" decoding=\"async\" height=\"221\" src=\"//upload.wikimedia.org/wikipedia/commons/thumb/6/65/Charles_Babbage_%285108336102%29.jpg/220px-Charles_Babbage_%285108336102%29.jpg\" srcset=\"//upload.wikimedia.org/wikipedia/commons/thumb/6/65/Charles_Babbage_%285108336102%29.jpg/330px-Charles_Babbage_%285108336102%29.jpg 1.5x, //upload.wikimedia.org/wikipedia/commons/thumb/6/65/Charles_Babbage_%285108336102%29.jpg/440px-Charles_Babbage_%285108336102%29.jpg 2x\" width=\"220\"/>]"
     },
     "metadata": {},
     "execution_count": 26
    }
   ],
   "source": [
    "soup.select('.thumbimage')"
   ]
  },
  {
   "cell_type": "code",
   "execution_count": 29,
   "metadata": {},
   "outputs": [
    {
     "output_type": "execute_result",
     "data": {
      "text/plain": "<img alt=\"\" class=\"thumbimage\" data-file-height=\"725\" data-file-width=\"549\" decoding=\"async\" height=\"291\" src=\"//upload.wikimedia.org/wikipedia/commons/thumb/9/9e/Difference_engine_plate_1853.jpg/220px-Difference_engine_plate_1853.jpg\" srcset=\"//upload.wikimedia.org/wikipedia/commons/thumb/9/9e/Difference_engine_plate_1853.jpg/330px-Difference_engine_plate_1853.jpg 1.5x, //upload.wikimedia.org/wikipedia/commons/thumb/9/9e/Difference_engine_plate_1853.jpg/440px-Difference_engine_plate_1853.jpg 2x\" width=\"220\"/>"
     },
     "metadata": {},
     "execution_count": 29
    }
   ],
   "source": [
    "computer = soup.select('.thumbimage')[2]\n",
    "computer"
   ]
  },
  {
   "cell_type": "markdown",
   "metadata": {},
   "source": [
    "### Get Source of image"
   ]
  },
  {
   "cell_type": "code",
   "execution_count": 30,
   "metadata": {},
   "outputs": [
    {
     "output_type": "execute_result",
     "data": {
      "text/plain": "'//upload.wikimedia.org/wikipedia/commons/thumb/9/9e/Difference_engine_plate_1853.jpg/220px-Difference_engine_plate_1853.jpg'"
     },
     "metadata": {},
     "execution_count": 30
    }
   ],
   "source": [
    "computer['src']"
   ]
  },
  {
   "cell_type": "markdown",
   "metadata": {},
   "source": [
    "### Showing the image"
   ]
  },
  {
   "cell_type": "markdown",
   "metadata": {},
   "source": [
    "<img src='https://upload.wikimedia.org/wikipedia/commons/thumb/9/9e/Difference_engine_plate_1853.jpg/220px-Difference_engine_plate_1853.jpg' />"
   ]
  },
  {
   "cell_type": "markdown",
   "metadata": {},
   "source": [
    "### Save image to local"
   ]
  },
  {
   "cell_type": "code",
   "execution_count": 38,
   "metadata": {},
   "outputs": [
    {
     "output_type": "execute_result",
     "data": {
      "text/plain": "<Response [200]>"
     },
     "metadata": {},
     "execution_count": 38
    }
   ],
   "source": [
    "image_link = requests.get('https://upload.wikimedia.org/wikipedia/commons/thumb/9/9e/Difference_engine_plate_1853.jpg/220px-Difference_engine_plate_1853.jpg')\n",
    "image_link"
   ]
  },
  {
   "cell_type": "code",
   "execution_count": 41,
   "metadata": {},
   "outputs": [
    {
     "output_type": "execute_result",
     "data": {
      "text/plain": "x94\\xf8WOaL\\xb4\\xe1=\\xad\\xe9/%)\\xdf\\xb5\\xcc\\x04\\x92\\x7f,\\xe4\\x0e2\\xb5\\xea\\xa7E\\xe5P\\xa6[Rz]j\\\\\\x95\\xa4\\xc4\\n\\\\\\xe8&B\\xf0\\xda\\x07\\t;]X\\x07\\x8f\\x08\\x088\\xfe\\xa3E)\\x81&\\xa6\\xc4YR\\xaf\\xfb\\x96\\x88\\xfd9\\tP\\x82\\xabZ$G\\xa2\\xed8\\x0c\\xa8\\xb5\\xe9\\x07ciR@$`dc*\\x1a\\xea8XC\\x81\\xe3\\xc6m6\\xdf\\n\\x04\\x92 \\xe8\\x98\\x06\\xec\\x84+\\xd4\\xa8UK.\\xbb\\x12z\\xe7\\x98\\xb1\\x9dv\\xe8.\\xa5\\x99\\nH\\xc8\\xdc\\x97\\x95\\x8e\\x15\\xce\\x01\\xe3\\\\k\\xa2\\xf7\\xa5Qa\\xdf\\xed\\xcd\\x85Q\\xa51\\x16\\x8b>\\x9f\\x958\\xfc\\xf6\\xdc\\x98\\xe2\\xd6U\\x87\\x12\\x14RTBO8\\xc9#\\xdf\\xc8\\xe0\\xa5N\\xa6Obl{\\xc6\\xe0\\xb9jT\\xd6\\xd12\\x1c\\x19\\x90Pr\\xe2\\xd3\\xfd\\x9f~\\xd3\\xbc\\xef\\xd81\\x8eU\\xe0y\\xd1E\\xf1\\x0e\\xf8\\x8bm\\xdc\\xd3\\xec*\\x955\\x95\\xad\\x895\\x89\\xf0\\xa7\\xa1XD\\x86\\x1e$\\xf6p\\x9d\\xd8%\\xaf\\xe6\\xf7\\x1e\\xd9\\x18\\xca\\xaen\\x06\\x86\\x92s\\x04\\xfe4\\x08n!%*l\\xfa\\xb5\\x91>\\xdd\\x8a\\xc3\\x96\\xbc\\xc4U\\x99\\x84vW$:\\xea\\x10\\xd4\\x86b\\xb6\\x958\\xa6\\x95\\x82\\n\\xb6\\xa5\\t\\x059;\\x7f\\xa9\\xe0Z\\xb7MZ\\xbfp8\\xaa\\xfdNTf\\xe7Nn\\xb1-\\xf1O[\\x05O\\xb0\\x1bp\\x10BF\\x0e\\x1b\\xdb\\xb3 +8\\xc6y\\xd3\\x1b\\xa6]C\\xbd\\xea\\x92\\x13R\\xa8\\\\k\\x91:\\xa6\\xe3\\xe6Gj\\x13-\\xb1\\xe8n9BR\\x95n#\\x01\\xee\\x0er@\\x1a>\\x81\\x7f^sn\\x99\\x94\\x81u\\xd1;\\x12a\\xb7Q\\x83$!\\xbd\\xac2\\xe0(\\r/\\xd3\\xebRV\\x9d\\xc5^\\x9fJ\\xb1\\x81\\xe7]\\x12\\x08kKD\\xc0t\\x83\\xa5\\xe7\\x80t\\x99\\xe7\\xb8 \\x1a\\xe2\\xda/\\xde\\x96\\x84C\\xd3\\x8b\\x8e-\\xd9[\\x9fx[\\xad\\xd7\\x9f\\x81)\\xb2\\x84\\xc0y\\xa0\\xca\\xc7qI=\\xc7\\x12\\xea\\xc2\\xb8,\\xa9(\\xc6@\\x0bPH\\x19#C\\xee\\xdc0\\xba~nW\\xaa5\\x8a\\xe5aT\\xe6\\xd3O\\x9a\\xcctoSO8\\xfb\\x93\\x02\\x97\\xb9\\xdco\\xed\\xcaB}>\\xdfPR\\x94\\x91Z\\xb2\\xa7\\x86V\\xbb\\xe2\\xee\\xb5n\\x8a\\xc3\\xad\\xb4\\xa6\\xd6\\xd6\\xc8M6\\x8fY\\tJB\\xd6\\xa2rI*\\'\\xe9\\x81\\xa5\\xfd\\xe7\\xd3\\xba|\\xaa]\\xde\\xf5\\x0e\\xa9F\\x80k\\xf57\\xea3\\x1dyjZ\\xdbPl4P\\xd6\\x08%\\x07\\xe1\\n\\xbe\\xe5\\xee8\\x03R\\xfafR5\\x9a\\xda\\xce\\xf2\\xcd\\xc8\\xd9x\\xf8EB\\xef\\x0c\\xe0\\x17K\\xf6o\\x087\\x85:\\xe1z\\xd6vOy\\x88u\\t\\x8e\\xbb=\\xb7\"\\x04lS\\xd2Q\\xb4\\xa5K\\xca\\x86Pv\\x11\\x83\\x828\\x07\\\\n\\x8f\\xd7\\xa4\\x8e\\xa1\\xdb\\xd2j-J\\xa9\\xae\\x9e\\'\\xd4\\x97\\x1a\\x1ct)\\xd5\\xb8\\xea\\x10\\xb7T\\x96\\xd3\\x8c\\x92\\xaf\\x00\\x1c\\x0eu\\xda\\xe9\\xd5\\xa4\\xed\\xa5^\\x9f%\\xda\\xfd\\x0e\\xb2\\x99\\x94\\xe7\\xe2\\x86\\xe4GZ\\x12\\x07\\xad\\xbc\\x14\\xe4\\x9c\\xad)\\x07\\n\\x1e\\x08\\xcf\\x19\\xd1\\x85\\x87f\\x85.\\x9e\\xa6\\xa7\\xd3\"*\\xa92O\\xc3\\xbfOF\\xd9\\x91\\x9b\\x90\\x95\\xe1 \\x1c\\x80\\x94$\\x80A\\xc8\\xf1\\x80=\\x8c\\x06\\x99%\\xcd\\'\\x16r\\x08\\xc2A\\x10\\xeb\\xec\\x16\\x81&\\xe8\\x0e\\x16\\x00\\xc4Do\\xdc\\xb3\\xca\\x956\\xb5\\xd3\\xfe\\xa0\\xff\\x00r\\xccfl\\xbbAt\\xf6\\x19f+\\x8bC\\xaf)\\xc9N\\xa9![p0$\\xb7\\xc9\\xc7\\xea\\x07\\xdf\\x85u\\x9fM\\xa8T\\xeb\\xe8\\xb7)T\\xe2\\xec\\xf9Q\\xa4\\xb5*2\\xddTr\\x98\\xea\\n\\xcb\\xad\\xac6\\xb1\\x92\\x16Br\\x93\\x85 y\\x1a-\\xa9\\xd1\\xaf\\xfaM\\x8fv\\xb8\\x8b\\xf1\\xfatx\\x14\\xa4T\\x93\\x12$6\\x1dnN\\xc9\\x0bg\\x0e-\\xc4\\x15\\xa4\\xa9\\x11\\x82R\\x12@\\x03\\x19\\xce\\x08!\\xd4\\xff\\x00\\x8a+\\xa8\\xd5\\x1d\\x92\\xe2.8T\\x9a\\xac\\xa8\\xb5\\x86\\x9eZ\\x1e+\\x88\\xeb\\xad\\xb46%[R7\\x0e}\\'p\\xe3\\xc1:J\\xdeVxU\\r\\x9cD\\xc6\\x90Zc>>\\xa0oN\\xc8\\x9cM\\xd3.\\xbf\\xa4\\xdf\\xb6\\x7f\\x0f6\\xa5\\x11\\x95E\\xa85rVV\\xb5\\xefmr\\x939\\x05\\r7\\x8d\\x8d)\\xd6\\x829\\'j\\xb7\\x84\\xe79\\xf6\\x00kZ\\xb7\\xd3\\xc4\\xc1r\\x9f\\x12\\x85`39.E\\n\\x90\\xe3\\xf3\\xab\\xad\\xa1\\xb5\\x02R\\x94nJTI\\xdaNI\\x00\\xf3\\xfdu\\xcb\\xe8\\xf7T\\xaf;\\x9e\\xadX\\x87p]\\x8f\\xcbB-\\xb5H\\x83\\xf1\\t\\x8d\\x17|\\xe2[\\xd8B\\x82R9%@$\\x9cy\\xc8\\xe3Z\\xf5\\x8b\\x87\\xaf\\xa6\\xb4\\xc31\\xee\\x7f\\x93R*\\x13\\xda\\x8a\\xc4\\xe7\\x11H\\x92\\x19J\\xb1\\x95v\\xd1\\xbdj?\\xaf\\x8e|rG\\x9dg\\xd3G\\xd4\\xd3s\\x98\\xe08\\x9b\\xe6r\\xde\\xa9[\\x15\\x17\\x80\\xe0\\x86.\\n\\r\\xc9\\x1e[#\\xfe\\x0cOS\\xaa\\t\\x05\\xdaez\\xbe\\xb6\\xd1\\xea\\x18;BP\\x9e\\x07>?\\xe9\\xa2ttn\\x89\\x1d\\xe7]~4\\xe7\\xd8u\\nB#H\\xb7\\xee\\'CH e\\x01\\xcd\\xdb\\xb8)\\x18P\\xc1\\xc0\\x1c\\x80\\x06\\xb7\\xa8\\xf7WUmn\\xb8Z\\xd6\\xa5\\xed\\xd4\\xd4\\xd7m\\xda\\xba$\\xbb\\xden\\x8f\\x0e\"\\x88m\\xb2@V\\x1a\\xf4rS\\xcey\\xc9\\x1a%r\\xf9\\xb8\\x1c\\xbf*\\xf0\\xeb\\xd7\\xec\\xabZ\\x8d\\x0c+\\xe1;u\\x1a#\\x89\\x94\\x80\\xa5\\x06\\xdc\\x01l-\\xd0V\\x9d\\xaa)\\xc7\\x07>8\\xcb\\xb9\\xae\\';l\\xd3\\xbe\\x89q\\x8c2\\xb9Ve\\x9f\\x07\\xa7\\xd5\\xe5V`\\xca\\xbc\\xee\\x08L\\xb2\\x90\\x86\\x852s/!x\\xc6\\xc0\\x85\\x04oJ\\x94O\\xb0\\x00\\x01\\x95y\\xcb\\x16}\\xcd>\\xca\\xe9\\xd5.;\\x94W\\xaa\\xd5\\x18qY\\xc4\\x18\\x8d\\xba\\xf3\\x85H\\x19)\\xde\\xdaW\\xb5Y\\x03\\x93\\x9c\\xf3\\x8c\\xe8:\\x95]\\xbfn[\\xae\\x1d\\x06\\xdb\\xeaC\\x87\\xbdE~S\\xcf\\xbf\\x0e\\x9d/\\xb4\\xfa\\\\\\xd8\\x8e\\x19i\\x03o\\xe9\\xdc\\x0e\\t\\n\\xe3\\xdbB\\xf7\\x15\\xeb\\xf8\\x85\\xb7-\\x16+U$\\xc3r\\x19J\\x16\\xb9\\xd4\\xf1\\x1d\\xdc \\x83\\xebSe\\x92BO\\x1e<dgI\\xe1\\xd3\\xf0\\x88\\xc4\"2\\xd5\\x05\\xc7\\x16WD\\x1f\\x84\\x8a\\x8c\\xfbv\\xdb\\x97l\\\\\\x96\\xfd\\xc3C}s\\x15%\\x87jt\\xc7\\xd8iJs\\x92\\xd8Z\\xda@\\n\\x1bA\\x1e\\xc7p\\x03\\x90F\\xac\\xee\\xab\\xbf\\xe1\\xca\\xb9~\\xf5\\x06\\x9c\\xed\\xc1w^\\x8e\\xd4i\\x0cI,\\xb7\\x114\\xb8\\xf1\\x9cq\\xd0\\x12\\xafR\\x9bO\\xf8xRx\\x18$\\xe78\\x03\\x06\\xc4k`\\xb6\\xc4B\\x01\\x9b\\xa9\\xa9\\xa9\\xa9\\xa1j\\x9a\\xf0\\xf8\\xe7^\\xea\\x1f\\x1a\\x10\\x94/]m\\xd1n\\xfb\\xaaLj}B\\xaei\\xf3\\xc3\\xd5\\x06\\xa26\\x14\\xa8\\xe80\\x9bKdg\\x01[\\x8a\\x0e@9O\\x93\\xc1\\xd5l\\xb1\\xedk\\xa9\\x96\\xe8\\xab\\x95eWi\\x92c\\xd7\\x1b\\x96\\xea]\\x867\\xad\\x90e(\\xe3o\\xea\\x18u\\x03\\x91\\xf5\\xe3O\\x1b\\xdb\\xa7\\xf5{\\x9a\\xe7\\xac\\xaa\\xd3\\xbb*\\x96\\x9c\\xe9S\\x9dL\\xa7!z\\xdb\\x94\\x86\\xe20\\xa6\\xd2\\xe2|\\x8c)j\\x1b\\x91\\xea\\xc1\\xc7>\\xc9;\\x1e\\xe1\\xb9n\\x18\\xf4)\\xd2\\xae\\n\\xaa\\';S\\x8f\\xdec\\xe6/!\\x1bJ_B\\xd6\\xdf\\xabw\\xa9M\\x8c\\xa3\\xd8\\x0e08\\x1d_N\\xf1F\\xa0\\x0c\\xce\\t\\x1e\\xe7\\xa8\\\\\\xb5A-\\x97d\\xbb\\x14;v\\xefK\\xb1\"\\xcc\\xa3]\\x10!)*\\x84\\xb5.\\x94\\xe3\\xe8j)S\\x8b\\x03`\\x03)\\xde\\xa4+nA\\x04\\x03\\x9e4\\xe2\\xb0\\xab3\\'\\xd5 Ov\\x90\\x9aD\\xeaM!4SL\\x9c\\xb4Dt\\x82\\xa4-/\\x10AR\\x12R\\xd7\\xa5\\x188\\xc9\\xfai\\x7f2\\xfa\\x9e\\xfd~\\x15B\\x15\\xe1R}\\xf9\\x88U-tt\\xfcCq\\xdaR\\n\\xdc\\xf8\\x84\\x8e\\xe0Z\\x9e;\\x10\\x8c\\x03\\x8d\\x8b\\'\\x19\\x1c\\x18X\\xe2%\\x1dQ\\x97:\\xf2\\x93sT]Y/=Q\\xa0\\xa9\\xd7\\x96Jq\\xb3z@%)\\xf0<\\xf0}\\xfc\\xeb\\x88\\x87\\xd3dD\\xdfSq\\xaco\\x89\\xe4\\xae\\x1dL\\x99\\x16\\xb75\\xf5S\\x99K\\xa3\\\\w\\x1bq\\xe4)\\xfa\\xd31^\\xa9KeuF\\xb64\\xcc\\xf0\\x90\\xa4\\x05\\x14\\x85+\\x02\\x06R\\x9fn\\xe2|\\xe1$,)\\x15\\x8a\\x1d\\xefR{\\xe1\\x93P\\x8aj\\xa9\\x94\\x97\\x83\\x8e6\\xa4%R\\n\\t)\\x08 \\x85\\xe5\\xb4\\x94\\x91\\x820I\\xcf\\x90\\xc5\\xb9\\xa96\\x8c\\x9a\\x8dV\\xbd&\\xaf\\x16\\x95\"\\xa9Mf\\x1c\\x97\\xbeF\\xa4$\\x86;\\xbd\\xa2\\x02\\xce\\x02\\xf6\\xbc\\xb1\\x9fp\\xd2q\\x8d\\xba^P\\xe9\\x16\\xf5!l9g\\xdf\\t\\xaeNIC(\\x8b\\xf2\\xd4+-\\xef\\xe7\\x1bU\\xe7<zO\\xb1\\xf3\\xaaH\\r\\x13\\x96&\\x939a\\x93\\x8b\\xae\\x1fT\\x8ed\\x93\\xb6\\x08\\x1bd\\x81\\x1c\\xaf\\xe8\\xb8=;\\xba*\\xaf^\\xf49O\\xcd\\xa8\\xcf}Ha\\xb9-\\xb6\\x94\\xad\\xc9mE\\xdc\\xa6\\x9a\\xda\\x07\\x9c\\x90F8$\\xe7:u\\xc7\\xadH\\xa8\\xdb\\xf7[\\x13\\xe2\\xcevUB\\x93P\\x0c\\xc7\\x8bE\\x98\\xa0\\xca\\xa4\\xb8\\xf3\\x89in\\x16\\xb0T\\x02\\x80*\\xe19\\x07\\xce2E,\\xcaJ.\\x87 O\\x12\\xe11&\\xaa\\xb6 \\xb7.-=\\n\\\\E\\xc5B\\x90\\x82\\x877\\xe5+\\nJ\\x89\\xc6@?\\xe9\\xaf\\x87,\\x0b\\x92\\r\"\\xed~?Qn\\xc8I\\xa3Re\\xedr;\\xed,\\xceTu\\xbc\\x84\\x92\\x14\\x14Q\\xb4#\\x1bF2VNx\\x1a\\x93\\x07\\x8c\\xd7\\xb8\\x18\\xb9\\xf8\\xcb\\x81NHi\\r\\x8b\\xc5\\xfd\\xfd\\xa1(\\xe8\\x11\\xeb*r\\x9fI\\x81N\\xaa7RLc6\\x94\\xcac\\xa9.\\xceJ\\xe3\\xc6\\x0e\\x94\\x82\\x91\\xe9Ao\\x07\\x94\\xf9\\xf2x\\xd3\\x92\\xd1\\xe8=\\xa5n\\xd3\\x19Lk~\\xa2f9\\x11MIMF\\xdd\\\\\\xb0\\n\\xc9\\xdc\\x12I\\x18\\x04\\x1d\\xa4\\x03\\x8298\\xce\\x92\\xf4Is%\\xc4\\x85X\\x91=\\xd8\\xb5\\x1a5\\x1dk\\x814J(v0\\x0c3\\x94\\xa0\\x13\\xe3s\\x9c\\x8eA<q\\xc6\\x8c\\xfacw\\xde\\xf7\\x05\\xf2\\xdcX\\xf7%B\\xea\\x06#\\xfd\\xba[\\xd5\\xb5Dme\\x01\\xac\\xb8\\\\G\\xab#y\\xc0\\x1c\\x12~\\x83^\\xa7\\xf8\\xbfP\\xff\\x00\\xa6\\x15+\\x16\\x80\\xd6\\x88\\xd4\\x91\\x03X\\xdf\\xa9P/\\xa4\\x1f\\x85\\xa0\\x997\\xd9\\x99G\\xb7e\\x84\\x88\\x95\\xea\\x0b\\x16\\x17L\\xad6cJi\\xf7*\\x95*\\x8d\\x9c\\xf2\\xc4u#gl%\\r8\\x14J\\xf7/\\x8fm\\x83\\x9d\\x00W\\xfa{rA\\xaa\\xc4\\x8d\\x1f\\xa4V%~\\x95)E2gSm\\t\\x90\\xdec\\xc1\\xfd\\x0e\\xbb\\x9f\\x7f \\x9f\\xd2x\\xf1\\xa7]\\xc3C\\xb9\\xe4\\xda\\xa9\\x8f2\\xb9P\\xb3\\xae\\x19U(H\\x12`U_\\x9a\\x1aeA\\x05\\xdc!\\xd2S\\x92C\\xa9\\xf0@\\xe0\\x83\\xf5E\\xde\\x15>\\xa4Y\\x1dCj\\xdcGU*\\x92\\xa9\\x95J;\\xb2i\\xd2\\xea\\xd2#\\xc4K\\x0e\\r\\xd9/\\xba\\x10BBHH\\xdd\\x8cz\\xb3\\x8dy\\xae\\xa8*\\x12\\xd8\\xbcA:\\x9b\\x98\\x9e\\x1ap]`\\x96D\\x14\\xd2\\x81\\xd0\\xaalZ\\x8a\\xa5\\xad\\x99\\x06 \\x84\\xd3h\\xa67F!\\xa4\\x17\\x06\\xd7\\x81\\xde\\x15\\xbb\\x83\\x8e\\x0f\\t\\xc8\\xe7[\\xd6\\xe7D\\xa9VM\\xe1\\n\\xe5\\xb3\\xe8\\xee\\xb1-\\xa9\\x0e-\\xe0\\xfb\\xce\\xa1\\xb2\\xdb\\x81AHCH\\x8eB\\x00\\xfc\\xb0\\x9exJq\\xed\\x93\\xd5\\xb5\\xaf\\x8b%t\\x1a+w/Q\\xa9NT\\xda\\xa6\\xb4\\xddJ[W\\xaaKn\\xcb\\x08@Z\\x93\\xb1\\xf09PY\\xfd)\\x1fomh\\xb3~S.\\x0b\\xa2\\xd2\\xa7\\xd9\\xd7\\x8aj\\x82S\\xce*{P*\\xae>\\x14\\xd0[`n\\xdcJ\\x91\\xc1W \\x83\\x9c\\x8dQ\\xd5j\\x8aD\\x02p\\xc0\\x062\\x81\\x10\\x14\\x83\\x18\\x08\\x0743z\\xa6\\xa9>\\xc9\\xbb\\xa3\\xd2mz\\xcc\\xc9S\\xe8\\xea\\xa1\\x08\\xb1\\xd2\\x03\\x82@}\\xe7T\\xa4%X\\xdc\\x02^\\n\\xf6$\\x03\\xc69\\xd0\\x05\\xbfA\\xa8-\\xa9S]\\xb6.\\x07\\x9c]2\\xa6\\xdc\\xb8_(un\\x87]Z\\xd5\\xd9 q\\xce\\xe28\\xc7?\\xeb\\xae\\xd7Sm\\xda\\xfb4\\x9b\\x8e\\xe8\\xa2_\\xb5\\xdao\\xcaa&\\xb4\\xec\\x0e\\xe1-\\xb8\\xf2\\xa5>\\xc6\\xf4\\xa98)!\\xa6ps\\x9c\\x93\\x9e\\x01#\\\\\\x1a=b\\xe4\\xa9W\\x1e\\x8dF\\xad\\xd6\\xe3\\xc9\\x9bJ\\xa9\\xb8\\xca\\x18\\xa9:\\x97^\\x92d\\xcai\\x95ej9Y-2\\x06O\\x9c{j?^\\xc0\\xfa%\\xcet_M\\xe4m\\xde\\x02zG\\x0b\\xac/\\x08\\x96\\x81a\\xd0\\x99nj\\xee\\x1e\\x92\\xd4\\xea\\xacF&31\\xdd\\xa5H\\xdc\\xa2\\x82\\x95%m\\xe58\\xd8PJ\\x01\\xcer\\x93\\xect\\xc6\\xa0tf\\xcbT\\xd8UJM\\xa1J\\xb4\\xe6Dl=\\x186\\x16\\xc4\\xb6\\x1c*ZI;\\xd20\\x85\\x0e1\\xb4\\xe7\\x07\\x9e0U\\xfd\\x1ac\\xa8\\x97\\rZ\\xb5\\x0e\\xf1\\xb8.\\xb8\\xec!\\x91O\\xef\\xc8\\xab)_\\x0bRJ\\xda\\x0e\\x04\\xa5\\xb5\\x0c\\xa9)^H>\\x83\\x92y\\xd5\\x8f\\xb3l*\\x8d\\xa5H\\xf8)\\xb5\\xe7\\xee\\xc9jp\\xa9\\xca\\x8dmJy\\xe5\\x0f\\xe5H\\x1e\\x12\\x91\\xf4\\x1eI\\'\\xc9\\xd3\\n,\\xfaw9\\xac\\xd0\\xe9\\xcf4b/\\x03\\x12\\xab=g\\xa5\\xcd\\xb8\\xebO\\xddtY\\xd6\\xf5r\\x8bh\\xcez\\x93R\\xa5\\xd5\\xf78\\xe4\\xc7R[D\\x86\\xcaR\\x90\\x90\\xdeV\\x91\\x91\\xe0\\x8c\\xe3#ZV\\x99\\xe9\\xf5\\xe8Xj\\x95\\xd3\\x18\\xd4\\xd9Q\\xa4\\xb5\\x11{\\xaa*CO-\\xc6\\xce\\xe0\\x808\\xc1P+\\x05X$\\x0cy8\\xd5\\x80\\xbc:+O]\\xb3qC\\x8b!\\x88\\x1f>\\xac.\\xa71\\xe6\\xa9\\xe9}}\\xf7J2\\x00Q\\x18O\\xe5\\x8es\\x9eN\\x94ltJ=\\xbfE\\xba F\\x9e\\xf5\\xc5P~\\n\\xc42`&:\\x8c\\x92\\xb4\\x04\\x84\\x94\\xa8\\x92I\\x1e\\x9f\\x03\\x9c\\xe7\\x8d+\\xaa\\x9al\\x99\\x997\\x1bE\\x80\\x1b\\xe5\\xc6\\x165\\xa0\\x9c\\'\\xd1\\x18X\\x94*D\\xea\\xf3-Y4\\x04\\xda\\xd5\\x08\\xf57\\xe9\\xd5\\x19\\xccJ\\x05O\"#\\xc9/6\\x9c\\x85g\\'f\\x15\\xc6BH\\xf4\\xf9\\xd3b\\xbe\\x84L\\xe9Gga,\\xc9\\xa4\\xad%\\x0b\\x18\\xf4\\x98\\xea8#\\xf6\\xfa\\xe9\\x01\\xf8^\\xb6\\xe4Q\\xfa\\x93S\\x91&\\x9f&3_\\x02\\xfcn\\xeb\\x87\\x08L\\x96\\xdeB^go\\x80\\xb0yP\\xfd\\xb5c\\xa4\\xa3\\xb9\\xd34\\x10\\x11\\xbcP\\xc9AP\\xe0(\\xc6<\\xe3\\xfa\\xeat\\xc5?\\n\\x1b\\x94p\\x8b\\x1b&\\xa8\\x1c\\x1cA\\xcf\\xf8\\x96\\xff\\x00\\x848nC\\xe9Z\\xbb\\xcc\\xa1\\x87\\x1d\\x9f\\xdcR\\x11\\xe0e\\x86O\\xb7\\xbf:\\x7fi+\\xf8`\\xaa\\xc4\\xadt\\xddsi\\xae8\\xe4wg\\xabj\\xdcJ\\x12\\xa5\\x10\\xd3@\\x92\\x94\\xf09\\x1e4\\xea\\xd7u_\\xbf\\x97\\xb2F}\\xaajjjj)\\xd4\\xd6\\t\\x92\\x9b\\x85\\x15\\xf9/\\xe44\\xcbjqx\\x19;@\\xc9\\xe3\\xf6\\x1a\\xcf\\xac2\\xe352+\\xd1\\xa4\\xa08\\xcb\\xc8Sn$\\x927$\\x8c\\x11\\x91\\xf6:\\x10\\x95\\x16}N\\xad>\\xe7~]n\\x81*\\x98\\xe3\\x92\\xa5L\\x11\\xd0\\xa6\\xdfS\\r\\xa9(\\x8e\\xd8uhYN\\xf3\\xd8Y)Nq\\xc0\\xf6\\xc9\\xac\\x14\\xebb\\xec\\xa0\\x8a4ER\\xdb\\x8b.}]\\xa7)\\xefL}\\x1b\\x0b\\x91\\xdd\\x92\\xa1\\xfe\\x11R\\xb8FI\\xe3\\xd8\\xe39\\x1a\\xb0Q\\xacz\\x8a\\xeb\\xf3\\xe8\\xe8\\xbc\\xaeX\\xed\\xc3\\\\\\x9e\\xdc\\xc6\\xaa\\n\\xee8\\x02Zu\\xb48T0\\xa0\\x92\\xfa\\xb2|\\xab\\xdc\\x8et\\x94\\xa3\\xd4\\xd8\\xbd\\x1c\\xb3\\xe6\\xdc\\xa6uJKUX\\x88\\xdc\\xe3\\xea\\x08m\\xd7\\x13(\\xa9\\xd0\\x123\\x92[ \\x94\\xf8\\xceuZU\\xcd\\x1a\\x91\\xb2\\xe0\\xe9\\x9cF\\xdb\\xe2\\x8c\\xb6\\xaew48\\x0f^\\xfa\\';=\\x13\\xa0\\x18\\xf1$\\x9aL\\xa6\\xaa \\xb6\\xe3\\xa9\\x81!\\xd7\\xd9\\xde\\xa1\\xf9\\xaaI\\x92\\x85\\x82\\x9d\\xc4\\x91\\xb4\\x03\\x8e\\x07\\xbe\\xb7\\xebT{\\xa6\\x93Nn\\x1d\\x96\\xfc\\xe0\\xaf\\x8bsq\\x99Dj`CA\\x00#\\x00\\xf6\\xbc\\xab\\xef\\xe3\\xd8iAn_\\xf5Fn\\xcbn=v\\xea\\xab\\xb3H2\\xf1Q\\x0fTT\\xd2\\x03%\\x97\\x16TJN\\xee\\\\\\xdb\\x8c\\x1f\\xf4\\x19\\xd6{\\xb6\\xb3sM\\xabKv\\xd1\\xea\\xac\\x14EvJ\\xbe\\x06\\x9e\\xc5\\xc2\\xeb\\x92\\x16\\xca\\x9c\\x01\\x18mL\\xe4\\xa8$\\xf2\\x9d\\xfe\\xdf\\xa8\\xean\\xad\\x1ebd\\\\\\xdf\\\\\\xa7\\x9c\\x0e\\x8a\\x81\\x8d\\xf5\\xec-\\xeb\\xd9\\xae\\xbd0\\xd2\\xa2\\xd1\\xa8\\xf4\\xab\\xb6\\x9e\\xeb`m\\xfe\\x1c\\x8f\\r\\xc6\\xd49)PvAN\\x08\\xe3)\\xcf\\x9f\\x1e\\xfa7\\xb4l&\\xa7\\xdbt\\xb9w\\x8c:\\x95\\n\\xe1w\\x0f\\xcd\\x83\\x06\\xdd\\x8f\\xdaa\\xdc\\xfe\\x94\\x94\\xb0\\xe0\\xc7\\xbf\\x0bW\\x93\\xce\\x93\\xbdZ\\x85\\xd4\\xfe\\x95\\xd5\\xe8,\\xb1\\xd5\\x9a\\xfd^\\x99V\\t\\x05R\\n\\x1b[kI\\x05@\\x94\\x8e\\x12S\\x9es\\xc6\\x8e\\xef.\\xa8\\xd1Mn\\x1c{z\\xfeZiN<\\xe3m;J\\xae\\xbc\\xfb\\xdc%\\xb3\\xf9\\xc9Z\\x1d\\xe0\\x15\\x1d\\xa4m\\x04\\x13\\xea8\\xc0l\\x0em6T\\x9f\\xbbN\\x10n8\\xc1\\t\\xac\\xe7\\x10\\x06H\\xfa\\x1d!\\xcaM\\xcbK\\xf9u:\\xaaiQ\\xaa\\x01\\xc4\\xb8)\\x1d\\xa0\\x96\\xfbj\\xc9(B\\x13\\xfc\\xc4\\x8c\\x84\\x83\\xf5\\xf3\\xae%\\xd7Q\\xb9\\xd1o\\xde\\xf1-\\xbbEU\\x08\\xf2D\\xf8j}\\xf9\\xc9\\x88\\xb2\\xb9\\x0e\\xb8\\xa0\\xa4\\xb6\\xa1\\x92\\x02\\\\I\\xe7\\x04\\x93\\xf4\\xf2\\x17L\\xbe\\xd6\\xfd\\xe1l\\xd3\\xa9\\x17\\xe5\\xc9Xj|\\xe2\\xd4\\x88\\xf2d)\\'\\xb6\\x1aR\\xf9!\\x96\\xc89\\x18\\xe0\\x9f\\x07\\xc6\\xba\\xddV\\xe9\\xeb\\x95\\xfbn\\xfd\\xa83qV\\xe9\\xcf\\xb3\\x02l\\x9cG\\x93\\x80\\xe2\\xa2\\xba\\xb42\\x95\\x93\\xebP\\xd8\\x8cgp\\xf3\\x93\\x9dii\\xa5L3A\\x94m\\'\\x17\\xca\\x83H/\\xc45\\xdb\\xcb\\xe1uz\\x15dWm\\xaat\\xd8\\xf7\\xd5\\xb4\\xcafHn3(e\\xd2\\xc4\\xc2Kmlp\\xee\\xde\\x00\\x04\\xa0\\x13\\xe4\\x1e>\\x9a\\xeeDj\\xf3qoH\\x91\\xd2jU:SKR\\x191eD_q!\\xbc\\xa4\\x95\\x85\\xa1II_\\xa4\\xa7\\x1e\\xd9\\xf1\\xc6\\x90\\xd6bj\\xf2)\\x0f\\xd1#9(1QRZq\\x1f\\x14Q\\xb1N\\xc0a\\xc3\\xeb\\x19X\\xfc\\xd5\\x13\\xc7;I\\xf6\\xd1\\x07MzwSv\\xb5%\\x9b\\xa2%E\\xdajG\\xc9\\xe7\\xab\\xe7.\\xb9\\xd8\\x9a\\xb4\\xb4\\xac6\\x02\\xf20\\xdb\\x9b\\x82\\xf1\\x8c\\x91\\x91\\xae\\x97\\xd3\\xa9lQq\\x03O\\xb4\\x01m\\xf1}\\xe4 <4\\x11\\xbf\\xdc\\x94\\xe1\\xa7\\xd2%\\xd4\\xc4\\x16\\xee\\xe6\\x9a\\xb3\\xe5A\\xd9)\\xca{r\\x0e\\xd9*\\xc3\\x89B\\xbb\\xcd\\xbcIJN\\xfc\\xa7\\x82N\\xd2|\\r%z\\xb3\\x16\\x99qUU[\\xb3\\xeb\\xee\\xd2\\xeb6u^E*B\\xdeI\\x94\\xcc\\x92\\x96\\x9at\\xa4\\x97\\x96}\\n\\xee\\x04\\x14\\x8c\\x82A\\xceG\\x9b\\x1bctv\\x9f\\xd3\\xb6&\\xb3m\\\\7&f)\\n}\\xd9\\xd3\\x911j\\xdb\\x9c\\x00\\xa7\\x9bV\\xd1\\xeaW\\x03\\x03\\x93\\xaf\\x9a\\xb7E\\xa8\\x95\\xa8\\x93\\xa2\\xce\\xa8U;\\x15\\n\\x81\\xa8\\xcdKJe\\xb2\\xfc\\x92\\x94\\'\\xb8\\xa2\\x96\\x81\\xce\\xd6\\x90\\x9e1\\xc2u\\xe789\\xac8nc]\\xbaLg\\x04\\xae\\x96\\xb5\\xa5\\xe0\\xba\\xc3\\xe3g\\xaa\\xae\\xf67P\\xe2\\xdd\\xf5J\\x83\\x95N\\x9e[\\x14\\xe8\\xf0\\xcb%\\xd5\\xc3\\x8c\\x97[SX\\xca\\x9eRJBB\\x06J\\x94\\t\\xc8\\x08<\\x9ch\\xaa\\xc2\\xb8i\\xb5\\x8b\\xce\\xcd\\x8fN\\x87I\\x8a\\xea\\xe6\\xceq_\\x06\\x1b\\x0f%\\xb6\\x15\\xdbJ\\x97\\xb3\\xf9\\x1e\\xde\\\\O\\xfe\\xe8\\xf3\\xad\\xb4tJ\\x81N\\xa3\\xd6\\xfeECx\\xcc\\x96\\xd3\\xff\\x00\\x0e&\\xc9S\\xa9\\x0f\\x14(\\'\\x04\\x81\\x85g\\x8c\\xfbd\\xe8\\x13\\xa7\\x96\\xe5F\\xde\\xaa\\xa6\\xed\\x91$\\xdb\\x94T\\xb56\\x9a\\xedU\\xb4\\xa1\\xe7X\\x94\\xd9[k!\\xa2\\x83\\xe9\\xee\\xa0\\x8c\\x94\\xa8{\\xfd\\x0e\\xba\\x1dM\\x8ek\\xdbL\\x1d\\x9b\\x8e\\xd3\\xc6\\x00\\x9d\\xe0\\xaep\\xfcD\\x12F\\xd4m\\xd4`gt\\xb3\\xa8\\xac6\\x12\\x85;j7\\xda\\x08W>\\x99\\xf3\\x07\\x9f\\xea\\x9f\\xfb\\xce\\x83\\xe8\\xdd\\xaa]M\\xda\\xa3L\\xb8\\xdb\\x91(5\\tH\\xda\\x02\\x8bn7*[\\xb9\\xc1\\xfam\\x18\\x1e\\xe4\\x0f\\xae\\xba\\x15\\x0b\\xda\\xca\\x87c\\xd6\\xe8U[\\xd65.d\\x9a/\\xcbi\\xf1_h\\xb6\\xb9\\xc9BK\\xa9p-C\\xfcEHq\\xd4)G \\xe0\\xf1\\x9eu\\xa9\\xd3J\\x9c(7\\xd1\\x15\\x87\\xa6K\\xa4|*\\xa4;:3E\\xc6\\xd9yJ+q\\x0f\\xac+xm\\x0b*\\x00\\xa3\\x03\\xd3\\xea\\x18\\xd4j\\x02)\\xb9\\xb5r\\x0ei\\xe4r\\xefr\\xab\\x01$`\\xd8}\\x91WI\\xef\\n}x\\xd5j\\x14\\n\\x15\\xd9-\\xa92\\x93=\\xe5\\xc7\\x80\\x1a\\xcc\\xe7{]\\xf5\\x15)\\xc0\\x9d\\xca\\xd8\\x93\\xb7;R<${\\xb4\\x8df\\xaa\\x94e\\xfa\\r\\xf6\\xa5%^\\xad\\x86\\x1f8\\xf3\\x8c=\\xe3\\xf6\\xd7\\xcd>\\xfa\\xb0\\xae\\x14Jz\\x8bt\\xc0\\x9d\\x1e4\\'^\\x96X[\\xab\\xd8\\xc8\\xc1[\\xae,+!#\\x1f\\xa8\\x9f\\x7f:^\\xd7\\xaa\\x1d\\x17\\xb8_n\\\\\\xce\\xa4\\xd2c\\xb6!\\x08\\xe9n%aq\\xdaVI_w\\x08t\\x12\\xb3\\xb8s\\x9f\\x03\\x1a\\xc1\\xe6\\x80;\\xef\\xa2x\\r\\xbf{\\x91m^\\xf0\\x9c\\xdd-{h\\xfd@\\x8a\\xb44U\\xb5t\\xd4:T\\x02=\\xcaT\\xa09\\xf2\\t\\xfa\\xf1\\xc6\\x84*w\\x9c\\xb7WP\\x93m\\xd2\\xae\\xd7d\\xb1\\xb1}\\xa5\\xc0o\\xbd\\xb9*l\\xa5!\\xbd\\xc5G\\xd42@\\x04\\x9c}\\x0e\\x87#\\xf4\\xfb\\xa5\\xf7\\x8dA\\x9am\\x95\\xd6\\x89?\\x15%\\xfc\\xa6\\x1c\\x1a\\xfa\\xe4\\xa9\\xc22\\xad\\x88J\\x9dW\\xb09\\xc6r\\x01\\xd3u\\xe4Y\\xf4\\xf9M\\xb1P\\xaaY\\xe8\\xa82\\xdaIS\\xb4\\xa0\\x97y\\x1c(\\xfenrs\\x9f\\xeb\\xa6\\xb3\\x86\\x1e\\xbe\\xb2\\x16@\\x06P\\xb7D+\\x14J\\xbd]U*:k\\x85\\xc7Z\\x912{\\x93a\\x94\\xb6\\xb9r\\x1cIuH\\x00\\x12\\x9d\\xc5\\xbf\\x03\\xd29\\xc6\\x9a\\x0f\\xb5\\xb3\\xa7\\xb4\\xf6]\\xde\\xa6\\x8d,!\\xdcd\\x1d\\xa29\\'\\xf6\\xf1\\xa1gj6\\xdc\\xe6_\\x88:\\x89oS\\\\L~\\xdbB\\n#\\xb1\\xf0\\xec\\xac\\x86\\xf8C\\x8bW\\xbav\\x82x\\x04\\x900u\\x96\\xab\\n\\xd9\\x97Dn\\x92\\x9b\\xe2\\x87\\x05\\tg\\xb1\\xdc@\\x86\\x15\\x82\\x82\\x06\\xd1\\xc0O\\x07<{j\\x14\\xe9\\x16\\x93\\xe5\\xb1\\xce9&0uC\\xff\\x00\\x84\\x04\\x16\\xfa/\\x01+\\x18Re\\xb8\\x1402\\x08J\\x078\\xf3\\xfb\\xfb\\xe9\\xf5\\xa4GJhPlJ\\x88\\x83B\\xeae6\\xe7\\x89-\\xc0>R\\xcbq\\xf7\\xe4\\xe0\\x17\\x01mJVR9\\xf6\\x18\\xf3\\xed\\x87\\xbe\\xba\\x9e\\xf0\\xf7\\x12\\x124@SSSSJ\\x99Ma\\x97-\\x881\\x9d\\x931\\xd40\\xc3I*q\\xc5\\x9c%#\\xeaN\\xb3k^s\\x0eJ\\x86\\xfb,=\\xf0\\xee\\xad\\x04!\\xd0\\x80\\xbd\\x8a\\xf6V\\xd3\\xc1\\xc1\\xe7\\x07B\\x12\\x96\\x05ZEN\\xae\\xfdNu9\\xda<Ibj\\xdaD\\x98\\x8e!\\xf4\\x02\\xd2\\x1bJ\\x9e\\x00\\x94\\xe5[\\x01J\\x7fV\\x08\\x1ex\\xd5b\\xb3\\xe9WE\"\\xa3L\\x8a\\xed\\x95w&+\\x13\\x18yG\\xe42@N\\xd3 \\x1fXF\\x00\\xda\\xf1$rO\\x03:\\xba\\xb2\\xe8\\xd7K\\xad,E\\xbaZ\\x8c\\xb2\\xac\\xa5_)B\\xf6\\xa7\\x07\\x8c\\x15\\xf9\\xf1\\xcf\\xdb^\\n5\\xd5\\xb1`\\xdd,\\x95\\x12\\x8d\\xaa\\x14\\x94p\\x02p\\xa1\\x8d\\xfc\\xe4\\xf3\\xed\\x8f\\x1aX\\xf2\\x16hL\\xfa\\xac\\x113\\n\\x95\\x1a%\\xd6L2\\xbb2\\xe7-\\xc7u\\x97R\\x95P%mHH) \\xe1\\x19\\xce\\x14O\\x07_t8\\x17\\x1b7e\\x0ec\\xd6\\xa5\\xc7\\x1a\\x1cYj[\\xae\\xbfD\\x90\\x93\\xca\\xca\\xb7\\x14\\x94g\\x1e\\xfc\\xf8\\xc8\\xd5\\xd3\\xf95\\xd3\\xdaRUt\\xb1\\xbc\\xff\\x008\\xa4\\xa7)\\xfd\\xbf3\\x1f\\xeb\\x9ddj\\x97s\\xb7\\x11\\r\\xaa\\xe3\\x88\\xf4\\x80\\xe2\\x94\\xa7\\x9c\\xa4\\xfe\\xa4{\\'j]\\x03#\\xeb\\xfe\\xda\\xb3\\x1f\\x84\\xdcN]\\x04\\x1e`\\x99S4\\xc4@\\xdf\\xd6\\xff\\x00\\x8eJ\\xbb~#\\xe0H\\xba\\xe5X\\xcf[\\x94\\xfa\\x8di\\xe8o\\x15IL8o\\xbb\\xda\\x05\\xb1\\xca\\xcaS\\x84\\x9f\\xb2\\xbd\\xf8\\xe3Ig\\xed\\xcb\\x96B\\xe9\\xebb\\xca\\xba\\x12\\xb4\\xbd\\xb8\\xb9\\xf27\\xc0l\\xa4\\xa7\\xd4\\xa1\\xdb<\\x10\\x14\\x00\\x1fPN\\xaf\\xc0\\x81r\\x04\\x8c\\xd6\\xe0\\x95g\\x92)dd\\x7f\\xebj\\x187\\x19\\xdf\\x8a\\xdc H\\x1bsK\\'\\x1f\\xbf\\xe7s\\xa4c\\x9dM\\xf8\\x86\\xe3\\xc3/\\xc0U!\\xael\\x15N\\xadj\\x05J\\x0fR\\xe9\\xf5\\x89v\\xfdy\\x98\\xadH\\xef>\\xe3\\xb4\\x89\\x03\\x1e\\x87I\\xd8v\\xf9\\x19\\x03\\x07\\xc9P\\x19\\x1ai\\xde7,\\xf1d\\\\Hn\\xd3\\xb8\\xaarn*mM\\x86\\xd8\\xa7\\xc1J\\x9c\\x86\\xa7\\x16\\xe2\\x90\\x1fIww\\x87P2\\x80s\\x85`\\x1ci\\xe0\\xe5>\\xe6RT\\x1b\\xaf@A\\'\\x82i$\\xe0\\x7f\\xebk3Pk\\xe0\\xa0\\xbbY\\x88\\xb0\\x0f\\xa8&\\x9aF\\x7f\\xfeS\\xa7\\x15\"\\x9b[\\xa8\\x8e\\x80\\x0f\\x89\\xcdH\\xd3\\xf3\\x13\\xb7\\xf2O\\xca\\xab\\xdd8D\\xc8U\\xb8\"u\\xbdX\\xa3\\xb2$6d?\"\\x96\\xe2R\\nb6\\xd6\\xfd\\xdf\\xcc\\x14\\xa6\\x89\\xc8\\x03\\x00\\x8c\\xe3\\xdbj\\x8b_K\\x97\\x0fi\\x9e\\x97\\xcb\\x82\\xd2_S\\xe5\\xc7c\\xbe\\x86\\xa4\\xc8B\\xc6\\xd9\\x07\\xd0\\x12\\x1cR\\x12\\x91\\xbdD\\xe0\\'\\x19\\xc6\\x06\\xac\\xc3\\x90k\\xc5Yn\\xb1\\x11)\\xcf\\x83N$\\xe3\\xf7\\xeek;\\xb0\\xea\\x85\\x8c1TB\\x1e*\\x04\\xadq\\x02\\x92\\x079\\x01!C\\xed\\xe4\\x9f\\x1aA\\r{\\x9d{\\x88\\x17\\xc8\\xeaE\\xb5L\\xe1\\x88\\x01\\xbfu\\xf7$\\x92n\\xea\\xc1\\x1b\\x95`\\xb6\\xf2\\xd0\\xc9p\\xad\\x15\\xc5 \\xba\\xe6\\xc1\\x94\\x04\\x90|\\x9f\\x04\\x91\\xe3Z\\xf3\\xaf*\\xa2\\x83\\xac\\xbb`L\\xa6\\x95\\xb4\\xb2\\xd2\\xe2OrBw\\xecP\\x18-\\x0cyZ}\\xc7(<x\\xd3\\xc10\\xabaJ?7\\x8e\\xa4\\x91\\xc0T\\x0f\\x07\\xfa,k\\xcf\\x82\\xae\\xe0\\xff\\x00{\\xc4\\xce8\\xfe\\xef>~\\xbf\\xe2iD\\x0c\\xc6\\xcfq<\\xc0#\\xd7p[\\x07op}\\xac}\\x12\\x19\\x89\\x0f\\r\\x8bn\\x832\\x9d\\x86d)\\x86\\x91\\x1aJ\\x8f\\n+I\\xdd\\xb7\\xd2\\xa2\\x06\\xc1\\x93\\xfc\\xda\\xd6\\xb0\\xab\\xd56n6\\xe5H\\xb2\\xab\\x94\\x9a[\\x0f\\xbf7\\x05\\x85 \\xa9\\xe7J\\xf8JV\\x12\\tQ^\\x14\\xa2G\\xd4\\xe0\\x1c\\xe9\\xfc\\x887\\x08Y\\xdfZ\\x84\\xa4\\xe3\\x80)\\x84\\x7f\\xf7u\\xf5\\xf0U\\xfd\\xaa\\x1f8\\x87\\xb8\\x9fI\\x14\\xd3\\xc7\\x1f\\xfc_\\xae\\xba)Vu g\\xcd3\\xd4\\xcc\\xf2\\xb7\\\\\\xd4]D<\\x83\\x96I/q[\\xb0\\xda\\xb2.H\\xcb\\xa6\\xc6~\\xb8\\xed\\xb4\\xccF\\n[T\\x90\\x83\\xde|\\xa6:\\x06V\\x01N\\xe4\\x1fG\\xbe\\x15\\xec\\x9c,(t\\x89\\xd0\\xdd\\xab\\x07h\\xd5V\\xa1\\xb3\\x1e\\xac\\xc6\\xd7`\\xb8\\x95:\\xa7\\\\\\x90P\\xa4\\xa0$gpX@\\xda\\t\\xc2RU\\xe7V\\xcdP.L\\x8d\\xb5\\xc8 \\x05d\\x8f\\x95\\x9eF<\\x7f\\x8d\\xaduSn\\xd2}7\\x155#\\xff\\x00\\xd1T\\x7f\\xfb\\xfa\\x8f\\x95\\xd4\\xbc\\'\\t\\x12\\x0e\\xcb\\x82\\x0fX\\xba\\xb3\\x81\\xc5\\x88\\x1d\\xca\\x9bX\\x13\\xab\\xf6\\x14j\\xbb\\xaa\\xe9\\xed\\xc3p\\xb5U\\xa6\\x9a{\\xb4\\xf0\\xdb\\xd1\\x01i\\xc3\\x95\\xa9$\\xb6v\\x81\\xc8\\xc7\\x04n\\x1a\\xeb\\xd0m\\xbb^m\\xd9jS\\xdd\\xe9\\x8dN\\xdf`Ji\\xd7\\xa5O\\xa8K\\x97\\x1d\\r!\\n\\xc3n\\xb6\\xb4%9V\\x12\\x01Vq\\x9c\\x9f\\x18\\xd5\\xb5\\xf9m\\xd4\\x1b#\\xf8\\x82\\x9eW\\xec~Nx\\xfe\\x9d\\xfdh\\xd7\\xaa\\xb5kF\\x876\\xb3Z\\xaa\\xc6\\x9a\\xccV\\xc1Lv`vV\\xfb\\x84\\x84\\xa1\\xa4\\xa8\\xb8\\xa0\\x14\\xb5\\xa9)\\x04\\x8c\\x02\\xa1\\x9d \\x01\\x95\\x03\\xe9\\x8c \\x12m\\xbd=\\xddL\\xb5\\xc6LD\\xaa\\xf9v\\xdb\\xd0-~\\xbb\\xd0o\\x0bF\\x88\\x85D\\xa7\\xd3\\x9e\\x970Al\\xa1\\x87V\\x1a-\\x06\\xc1J\\x08J\\xcfw;R9\\xdb\\xcf\\x9du\\x13\\xd5\\x9a\\xbd\\xb9R\\x9e\\x9au\\xb5_}\\xb2\\x16\\xb7\\xbe*d\\x87\\xa3\\xa1\\xd5\\x92\\xeb\\x9d\\xbd\\xac\\x85+\\x07\\xd29\\xf1\\x91\\xa6\\xdd{\\xa9\\x8d[\\xd4\\xcaD\\xf7\\xbb\\x93~r\\xe2Z\\x8b\\x1d\\xb6\\x82\\x16\\xd2\\x8aA\\xfc\\xc5e@\\x00JA\\xce1\\xbb\\x9f\\x18\\xd6*\\xcfS\\xe3\\xd1\\xab\\xeb\\xa4\\xc8\\x92\\xf3\\xa8b\\x1ci/O\\x8b\\x00\\xc8k/\\xbb\\xdbm\\xbd\\xa8QV\\xe3\\x94\\x1c\\xf2\\x00q*<n!\\xc3\\x98\\xd1%\\xb2m\\xaf\\t\\xd9\\x9cuS \\x9dm\\xfd\\xbf^\\x89o\\xd3\\xfb\\xbaM\\xc9xU\\xaaW\\x1d\\xbe\\xe4(\\xcc[\\xa8\\x82\\x88\\xcf\\xa5\\xd7W5\\n}\\xc5\\xe0oB@$(n\\x1e\\xae\\x00\\'\\xed\\xa3tt\\xa6\\xd0\\x8fh\\xa9\\xda\\xa5J\\xacg\\xc6\\x81\\xb1j\\x8c\\x97KA\\xd0\\xdf%%1\\xca\\xb6\\x85\\x81\\x81\\x9ex\\x07\\xc9\\xd3A]]\\x87\\x1d\\xb7\\rTT\\xa9\\x0f2\\x90\\xa7X~\\x8c\\xeb\\xc4\\r\\xc8I)-\\x9c/\\x95\\x1c\\x04\\xe4\\x90\\x85(\\x0cc=\\x19\\xbdP\\xa7Q\\xdf\\xb7\\x9b\\xa88\\xf4\\xc4\\xd7\\x16\\xe2Yv$\\x17v\\xb1\\xdbmJXw\\x1b\\xb6\\xab \\'a\\xc1\\x079\\xf1\\xac\\xf1\\x1cZ\\xe0\\xc3\\x13\\xf8\\x85\\xad`\\x04\\x1d\\x89_\\xf8d\\x16\\xe5\\xba\\xcc\\xeaTh)\\x8f^\\x9e\\xe7\\xc4*X\\x86\\xf2W!\\x00~\\x85\\xadI!\\x05!![w`\\xee\\xe0d\\x1dY\\x01\\xe3\\\\\\x1a\\x15Z]\\xc1\\n\\x93U\\x88\\x86Y\\xa7N\\x88\\x89\\ni\\xd2\\xa2\\xf27\\xa0\\x10\\x9e\\x0e\\xdc\\x83\\x90\\x7fmw\\xf5\\x92\\xe3wf\\x9a\\xda)\\xa9\\xa9\\xa9\\xadB\\x9a\\x9a\\x9a\\x9a\\x10\\xa1\\xf1\\xa8<jjhB\\x87\\xc6\\xa0\\xf1\\xa9\\xa9\\xa1\\njjjhB\\x9a\\x9a\\x9a\\x9a\\x10\\xa1\\xf1\\xa8<jjhB\\x9a\\x9a\\x9a\\x9a\\x10\\xbeG\\x9d{\\xef\\xa9\\xa9\\xa1\\x0b\\xddy\\xef\\xa9\\xa9\\xa1\\n\\x1dz<jjhB\\x9a\\xf8Q8\\xff\\x00\\xbf\\xae\\xa6\\xa6\\x94d\\x85\\xf0\\xe3\\r>\\xb4\\x17\\x9bC\\x85\\xa5\\x05\\xb6T\\x90v+\\x04d}\\x0e\\t\\x19\\xfb\\xeb\\'\\x85\\x0cq\\xcf\\xff\\x00\\x9dMM`B\\x80\\x04\\xe4\\x01\\x81\\x9fm}jji\\xc2\\x17\\xff\\xd9'"
     },
     "metadata": {},
     "execution_count": 41
    }
   ],
   "source": [
    "image_link.content"
   ]
  },
  {
   "cell_type": "code",
   "execution_count": 42,
   "metadata": {},
   "outputs": [],
   "source": [
    "f = open('My_computerImage.jpg', 'wb')\n",
    "f.write(image_link.content)\n",
    "f.close()"
   ]
  },
  {
   "cell_type": "code",
   "execution_count": null,
   "metadata": {},
   "outputs": [],
   "source": []
  }
 ],
 "metadata": {
  "language_info": {
   "codemirror_mode": {
    "name": "ipython",
    "version": 3
   },
   "file_extension": ".py",
   "mimetype": "text/x-python",
   "name": "python",
   "nbconvert_exporter": "python",
   "pygments_lexer": "ipython3",
   "version": "3.7.4-final"
  },
  "orig_nbformat": 2,
  "kernelspec": {
   "name": "python37464bitlearningcondacf134821621f44b6a2588003cb8c2979",
   "display_name": "Python 3.7.4 64-bit ('Learning': conda)"
  }
 },
 "nbformat": 4,
 "nbformat_minor": 2
}