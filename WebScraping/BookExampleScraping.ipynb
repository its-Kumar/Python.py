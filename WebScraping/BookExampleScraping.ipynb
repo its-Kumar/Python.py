{
 "cells": [
  {
   "cell_type": "markdown",
   "metadata": {},
   "source": [
    "# Scraping book title"
   ]
  },
  {
   "cell_type": "code",
   "execution_count": 1,
   "metadata": {},
   "outputs": [],
   "source": [
    "# GOAL : Get the title of every book with a 2 star rating"
   ]
  },
  {
   "cell_type": "code",
   "execution_count": 2,
   "metadata": {},
   "outputs": [],
   "source": [
    "import requests\n",
    "import bs4"
   ]
  },
  {
   "cell_type": "code",
   "execution_count": 3,
   "metadata": {},
   "outputs": [],
   "source": [
    "base_url = 'http://books.toscrape.com/catalogue/page-{}.html'"
   ]
  },
  {
   "cell_type": "code",
   "execution_count": 4,
   "metadata": {},
   "outputs": [
    {
     "output_type": "execute_result",
     "data": {
      "text/plain": "'http://books.toscrape.com/catalogue/page-12.html'"
     },
     "metadata": {},
     "execution_count": 4
    }
   ],
   "source": [
    "page_num = 12\n",
    "base_url.format(page_num)"
   ]
  },
  {
   "cell_type": "code",
   "execution_count": 5,
   "metadata": {},
   "outputs": [],
   "source": [
    "res = requests.get(base_url.format(1))\n",
    "soup = bs4.BeautifulSoup(res.text, 'lxml')"
   ]
  },
  {
   "cell_type": "code",
   "execution_count": 7,
   "metadata": {},
   "outputs": [
    {
     "output_type": "execute_result",
     "data": {
      "text/plain": "20"
     },
     "metadata": {},
     "execution_count": 7
    }
   ],
   "source": [
    "len(soup.select('.product_pod'))"
   ]
  },
  {
   "cell_type": "code",
   "execution_count": 8,
   "metadata": {},
   "outputs": [
    {
     "output_type": "execute_result",
     "data": {
      "text/plain": "<article class=\"product_pod\">\n<div class=\"image_container\">\n<a href=\"a-light-in-the-attic_1000/index.html\"><img alt=\"A Light in the Attic\" class=\"thumbnail\" src=\"../media/cache/2c/da/2cdad67c44b002e7ead0cc35693c0e8b.jpg\"/></a>\n</div>\n<p class=\"star-rating Three\">\n<i class=\"icon-star\"></i>\n<i class=\"icon-star\"></i>\n<i class=\"icon-star\"></i>\n<i class=\"icon-star\"></i>\n<i class=\"icon-star\"></i>\n</p>\n<h3><a href=\"a-light-in-the-attic_1000/index.html\" title=\"A Light in the Attic\">A Light in the ...</a></h3>\n<div class=\"product_price\">\n<p class=\"price_color\">Â£51.77</p>\n<p class=\"instock availability\">\n<i class=\"icon-ok\"></i>\n    \n        In stock\n    \n</p>\n<form>\n<button class=\"btn btn-primary btn-block\" data-loading-text=\"Adding...\" type=\"submit\">Add to basket</button>\n</form>\n</div>\n</article>"
     },
     "metadata": {},
     "execution_count": 8
    }
   ],
   "source": [
    "products = soup.select('.product_pod')\n",
    "example = products[0]\n",
    "example"
   ]
  },
  {
   "cell_type": "code",
   "execution_count": 10,
   "metadata": {},
   "outputs": [
    {
     "output_type": "execute_result",
     "data": {
      "text/plain": "False"
     },
     "metadata": {},
     "execution_count": 10
    }
   ],
   "source": [
    "'star-rating Two' in str(example)"
   ]
  },
  {
   "cell_type": "code",
   "execution_count": 15,
   "metadata": {},
   "outputs": [
    {
     "output_type": "execute_result",
     "data": {
      "text/plain": "[<p class=\"star-rating Three\">\n <i class=\"icon-star\"></i>\n <i class=\"icon-star\"></i>\n <i class=\"icon-star\"></i>\n <i class=\"icon-star\"></i>\n <i class=\"icon-star\"></i>\n </p>]"
     },
     "metadata": {},
     "execution_count": 15
    }
   ],
   "source": [
    "example.select('.star-rating.Three')"
   ]
  },
  {
   "cell_type": "code",
   "execution_count": 19,
   "metadata": {},
   "outputs": [
    {
     "output_type": "execute_result",
     "data": {
      "text/plain": "'A Light in the Attic'"
     },
     "metadata": {},
     "execution_count": 19
    }
   ],
   "source": [
    "example.select('a')[1]['title']"
   ]
  },
  {
   "cell_type": "code",
   "execution_count": 20,
   "metadata": {},
   "outputs": [],
   "source": [
    "# we can check if something is 2 stars (string call in, example.select(rating))\n",
    "# example.select('a')[1]['title'] to grab book title"
   ]
  },
  {
   "cell_type": "code",
   "execution_count": 21,
   "metadata": {},
   "outputs": [],
   "source": [
    "two_star_titles = []\n",
    "for n in range(1,51):\n",
    "    scrape_url = base_url.format(n)\n",
    "    res = requests.get(scrape_url)\n",
    "    soup = bs4.BeautifulSoup(res.text, 'lxml')\n",
    "    books = soup.select('.product_pod')\n",
    "    for book in books:\n",
    "        if len(book.select('.star-rating.Two')) !=0:\n",
    "            book_title = book.select('a')[1]['title']\n",
    "            two_star_titles.append(book_title)\n"
   ]
  },
  {
   "cell_type": "code",
   "execution_count": 22,
   "metadata": {},
   "outputs": [
    {
     "output_type": "execute_result",
     "data": {
      "text/plain": "['Starving Hearts (Triangular Trade Trilogy, #1)',\n 'Libertarianism for Beginners',\n \"It's Only the Himalayas\",\n 'How Music Works',\n 'Maude (1883-1993):She Grew Up with the country',\n \"You can't bury them all: Poems\",\n 'Reasons to Stay Alive',\n 'Without Borders (Wanderlove #1)',\n 'Soul Reader',\n 'Security',\n 'Saga, Volume 5 (Saga (Collected Editions) #5)',\n 'Reskilling America: Learning to Labor in the Twenty-First Century',\n 'Political Suicide: Missteps, Peccadilloes, Bad Calls, Backroom Hijinx, Sordid Pasts, Rotten Breaks, and Just Plain Dumb Mistakes in the Annals of American Politics',\n 'Obsidian (Lux #1)',\n 'My Paris Kitchen: Recipes and Stories',\n 'Masks and Shadows',\n 'Lumberjanes, Vol. 2: Friendship to the Max (Lumberjanes #5-8)',\n 'Lumberjanes Vol. 3: A Terrible Plan (Lumberjanes #9-12)',\n 'Judo: Seven Steps to Black Belt (an Introductory Guide for Beginners)',\n 'I Hate Fairyland, Vol. 1: Madly Ever After (I Hate Fairyland (Compilations) #1-5)',\n 'Giant Days, Vol. 2 (Giant Days #5-8)',\n 'Everydata: The Misinformation Hidden in the Little Data You Consume Every Day',\n \"Don't Be a Jerk: And Other Practical Advice from Dogen, Japan's Greatest Zen Master\",\n 'Bossypants',\n 'Bitch Planet, Vol. 1: Extraordinary Machine (Bitch Planet (Collected Editions))',\n 'Avatar: The Last Airbender: Smoke and Shadow, Part 3 (Smoke and Shadow #3)',\n 'Tuesday Nights in 1980',\n 'The Psychopath Test: A Journey Through the Madness Industry',\n 'The Power of Now: A Guide to Spiritual Enlightenment',\n \"The Omnivore's Dilemma: A Natural History of Four Meals\",\n 'The Love and Lemons Cookbook: An Apple-to-Zucchini Celebration of Impromptu Cooking',\n 'The Girl on the Train',\n 'The Emerald Mystery',\n 'The Argonauts',\n 'Suddenly in Love (Lake Haven #1)',\n 'Soft Apocalypse',\n \"So You've Been Publicly Shamed\",\n 'Shoe Dog: A Memoir by the Creator of NIKE',\n 'Louisa: The Extraordinary Life of Mrs. Adams',\n 'Large Print Heart of the Pride',\n 'Grumbles',\n 'Chasing Heaven: What Dying Taught Me About Living',\n 'Becoming Wise: An Inquiry into the Mystery and Art of Living',\n 'Beauty Restored (Riley Family Legacy Novellas #3)',\n 'Batman: The Long Halloween (Batman)',\n \"Ayumi's Violin\",\n 'Wild Swans',\n \"What's It Like in Space?: Stories from Astronauts Who've Been There\",\n 'Until Friday Night (The Field Party #1)',\n 'Unbroken: A World War II Story of Survival, Resilience, and Redemption',\n 'Twenty Yawns',\n 'Through the Woods',\n 'This Is Where It Ends',\n 'The Year of Magical Thinking',\n 'The Last Mile (Amos Decker #2)',\n 'The Immortal Life of Henrietta Lacks',\n 'The Hidden Oracle (The Trials of Apollo #1)',\n 'The Guilty (Will Robie #4)',\n 'Red Hood/Arsenal, Vol. 1: Open for Business (Red Hood/Arsenal #1)',\n 'Once Was a Time',\n 'No Dream Is Too High: Life Lessons From a Man Who Walked on the Moon',\n 'Naruto (3-in-1 Edition), Vol. 14: Includes Vols. 40, 41 & 42 (Naruto: Omnibus #14)',\n 'More Than Music (Chasing the Dream #1)',\n 'Lowriders to the Center of the Earth (Lowriders in Space #2)',\n 'Eat Fat, Get Thin',\n 'Doctor Sleep (The Shining #2)',\n 'Crazy Love: Overwhelmed by a Relentless God',\n 'Carrie',\n 'Batman: Europa',\n 'Angels Walking (Angels Walking #1)',\n 'Adulthood Is a Myth: A \"Sarah\\'s Scribbles\" Collection',\n 'A Study in Scarlet (Sherlock Holmes #1)',\n 'A Series of Catastrophes and Miracles: A True Story of Love, Science, and Cancer',\n \"A People's History of the United States\",\n 'My Kitchen Year: 136 Recipes That Saved My Life',\n 'The Lonely City: Adventures in the Art of Being Alone',\n 'The Dinner Party',\n 'Stars Above (The Lunar Chronicles #4.5)',\n 'Love, Lies and Spies',\n 'Troublemaker: Surviving Hollywood and Scientology',\n 'The Widow',\n 'Setting the World on Fire: The Brief, Astonishing Life of St. Catherine of Siena',\n 'Mothering Sunday',\n 'Lilac Girls',\n '10% Happier: How I Tamed the Voice in My Head, Reduced Stress Without Losing My Edge, and Found Self-Help That Actually Works',\n 'Underlying Notes',\n 'The Flowers Lied',\n 'Modern Day Fables',\n \"Chernobyl 01:23:40: The Incredible True Story of the World's Worst Nuclear Disaster\",\n '23 Degrees South: A Tropical Tale of Changing Whether...',\n 'When Breath Becomes Air',\n 'Vagabonding: An Uncommon Guide to the Art of Long-Term World Travel',\n 'The Martian (The Martian #1)',\n \"Miller's Valley\",\n \"Love That Boy: What Two Presidents, Eight Road Trips, and My Son Taught Me About a Parent's Expectations\",\n 'Left Behind (Left Behind #1)',\n 'Howl and Other Poems',\n \"Heaven is for Real: A Little Boy's Astounding Story of His Trip to Heaven and Back\",\n \"Brazen: The Courage to Find the You That's Been Hiding\",\n '32 Yolks',\n 'Wildlife of New York: A Five-Borough Coloring Book',\n 'Unreasonable Hope: Finding Faith in the God Who Brings Purpose to Your Pain',\n 'The Art Book',\n 'Steal Like an Artist: 10 Things Nobody Told You About Being Creative',\n 'Raymie Nightingale',\n 'Like Never Before (Walker Family #2)',\n 'How to Be a Domestic Goddess: Baking and the Art of Comfort Cooking',\n 'Finding God in the Ruins: How God Redeems Pain',\n 'Chronicles, Vol. 1',\n 'A Summer In Europe',\n 'The Rise and Fall of the Third Reich: A History of Nazi Germany',\n 'The Makings of a Fatherless Child',\n 'The Fellowship of the Ring (The Lord of the Rings #1)',\n \"Tell the Wolves I'm Home\",\n 'In the Woods (Dublin Murder Squad #1)',\n 'Give It Back',\n 'Why Save the Bankers?: And Other Essays on Our Economic and Political Crisis',\n 'The Raven King (The Raven Cycle #4)',\n 'The Expatriates',\n 'The 5th Wave (The 5th Wave #1)',\n 'Peak: Secrets from the New Science of Expertise',\n 'Logan Kade (Fallen Crest High #5.5)',\n \"I Know Why the Caged Bird Sings (Maya Angelou's Autobiography #1)\",\n 'Drama',\n \"America's War for the Greater Middle East: A Military History\",\n 'A Game of Thrones (A Song of Ice and Fire #1)',\n \"The Pilgrim's Progress\",\n 'The Hound of the Baskervilles (Sherlock Holmes #5)',\n \"The Geography of Bliss: One Grump's Search for the Happiest Places in the World\",\n 'The Demonists (Demonist #1)',\n 'The Demon Prince of Momochi House, Vol. 4 (The Demon Prince of Momochi House #4)',\n 'Misery',\n 'Far From True (Promise Falls Trilogy #2)',\n 'Confessions of a Shopaholic (Shopaholic #1)',\n 'Vegan Vegetarian Omnivore: Dinner for Everyone at the Table',\n 'Two Boys Kissing',\n 'Twilight (Twilight #1)',\n 'Twenties Girl',\n 'The Tipping Point: How Little Things Can Make a Big Difference',\n 'The Stand',\n 'The Picture of Dorian Gray',\n 'The Name of God is Mercy',\n \"The Lover's Dictionary\",\n 'The Last Painting of Sara de Vos',\n 'The Guns of August',\n 'The Girl Who Played with Fire (Millennium Trilogy #2)',\n 'The Da Vinci Code (Robert Langdon #2)',\n 'The Cat in the Hat (Beginner Books B-1)',\n 'The Book Thief',\n 'The Autobiography of Malcolm X',\n \"Surely You're Joking, Mr. Feynman!: Adventures of a Curious Character\",\n 'Soldier (Talon #3)',\n 'Shopaholic & Baby (Shopaholic #5)',\n 'Seven Days in the Art World',\n 'Rework',\n 'Packing for Mars: The Curious Science of Life in the Void',\n 'Orange Is the New Black',\n 'One for the Money (Stephanie Plum #1)',\n 'Midnight Riot (Peter Grant/ Rivers of London - books #1)',\n 'Me Talk Pretty One Day',\n 'Manuscript Found in Accra',\n 'Lust & Wonder',\n \"Life, the Universe and Everything (Hitchhiker's Guide to the Galaxy #3)\",\n 'Life After Life',\n 'I Am Malala: The Girl Who Stood Up for Education and Was Shot by the Taliban',\n 'House of Lost Worlds: Dinosaurs, Dynasties, and the Story of Life on Earth',\n 'Horrible Bear!',\n 'Holidays on Ice',\n 'Girl in the Blue Coat',\n 'Fruits Basket, Vol. 3 (Fruits Basket #3)',\n 'Cosmos',\n 'Civilization and Its Discontents',\n \"Catastrophic Happiness: Finding Joy in Childhood's Messy Years\",\n 'Career of Evil (Cormoran Strike #3)',\n 'Born to Run: A Hidden Tribe, Superathletes, and the Greatest Race the World Has Never Seen',\n \"Best of My Love (Fool's Gold #20)\",\n 'Beowulf',\n 'Awkward',\n 'And Then There Were None',\n 'A Storm of Swords (A Song of Ice and Fire #3)',\n 'The Suffragettes (Little Black Classics, #96)',\n 'Vampire Girl (Vampire Girl #1)',\n 'Three Wishes (River of Time: California #1)',\n 'The Wicked + The Divine, Vol. 1: The Faust Act (The Wicked + The Divine)',\n 'The Little Prince',\n 'The Last Girl (The Dominion Trilogy #1)',\n 'Taking Shots (Assassins #1)',\n 'Settling the Score (The Summer Games #1)',\n 'Rhythm, Chord & Malykhin',\n 'One Second (Seven #7)',\n \"Old Records Never Die: One Man's Quest for His Vinyl and His Past\",\n 'Of Mice and Men',\n 'My Perfect Mistake (Over the Top #1)',\n 'Meditations',\n 'Frankenstein',\n 'Emma']"
     },
     "metadata": {},
     "execution_count": 22
    }
   ],
   "source": [
    "two_star_titles"
   ]
  },
  {
   "cell_type": "code",
   "execution_count": 23,
   "metadata": {},
   "outputs": [
    {
     "output_type": "execute_result",
     "data": {
      "text/plain": "196"
     },
     "metadata": {},
     "execution_count": 23
    }
   ],
   "source": [
    "len(two_star_titles)"
   ]
  },
  {
   "cell_type": "code",
   "execution_count": null,
   "metadata": {},
   "outputs": [],
   "source": []
  }
 ],
 "metadata": {
  "language_info": {
   "codemirror_mode": {
    "name": "ipython",
    "version": 3
   },
   "file_extension": ".py",
   "mimetype": "text/x-python",
   "name": "python",
   "nbconvert_exporter": "python",
   "pygments_lexer": "ipython3",
   "version": "3.7.4-final"
  },
  "orig_nbformat": 2,
  "kernelspec": {
   "name": "python37464bitlearningcondacf134821621f44b6a2588003cb8c2979",
   "display_name": "Python 3.7.4 64-bit ('Learning': conda)"
  }
 },
 "nbformat": 4,
 "nbformat_minor": 2
}